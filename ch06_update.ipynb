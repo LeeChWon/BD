{
 "cells": [
  {
   "cell_type": "markdown",
   "metadata": {},
   "source": [
    "# 6장 데이터 로딩과 저장, 파일 형식"
   ]
  },
  {
   "cell_type": "code",
   "execution_count": 1,
   "metadata": {},
   "outputs": [],
   "source": [
    "import numpy as np\n",
    "import pandas as pd\n",
    "np.random.seed(12345)\n",
    "import matplotlib.pyplot as plt\n",
    "plt.rc(\"figure\", figsize=(10, 6))\n",
    "pd.options.display.max_colwidth = 75\n",
    "pd.options.display.max_columns = 20\n",
    "np.set_printoptions(precision=4, suppress=True)\n",
    "plt.rcParams[\"font.family\"] = 'Malgun Gothic'"
   ]
  },
  {
   "cell_type": "markdown",
   "metadata": {},
   "source": [
    "# 1. csv 텍스트 데이터\n",
    "## 1.1 csv파일 읽기\n",
    "* 판다스에서 CSV 파일을 읽기: pd.read_csv(path, encoding = 'utf-8') 함수를 사용\n",
    "    * path 인수 : 파일시스템에서의 위치, URL, 파일객체를 나타내는 문자열\n",
    "    * encoding 인수 - 유니코드 인코딩 종류을 지정\n"
   ]
  },
  {
   "cell_type": "markdown",
   "metadata": {},
   "source": [
    "    1) header(컬럼명)가 있는 파일"
   ]
  },
  {
   "cell_type": "code",
   "execution_count": null,
   "metadata": {},
   "outputs": [],
   "source": [
    "# !cat examples/ex1.csv\n",
    "\n",
    "df = pd.read_csv(\"examples/ex1.csv\")\n",
    "df"
   ]
  },
  {
   "cell_type": "markdown",
   "metadata": {},
   "source": [
    "    2) header가 없는 파일 : 컬럼을 지정\n",
    "        * names 인수 - 열 이름 리스트\n",
    "        * header 인수 - 헤더가 없을 경우 None으로 지정"
   ]
  },
  {
   "cell_type": "code",
   "execution_count": null,
   "metadata": {},
   "outputs": [],
   "source": [
    "!cat examples/ex2.csv\n",
    "pd.read_csv(\"examples/ex2.csv\")\n",
    "\n",
    "names = [\"a\", \"b\", \"c\", \"d\", \"message\"]\n",
    "pd.read_csv(\"examples/ex2.csv\", names=names)"
   ]
  },
  {
   "cell_type": "markdown",
   "metadata": {},
   "source": [
    "    3) 계층적 색인 지정하기\n",
    "        * index_col 인수 - 색인으로 사용할 열 번호나 이름, 계층적 색인을 지정할 경우 리스트"
   ]
  },
  {
   "cell_type": "code",
   "execution_count": null,
   "metadata": {},
   "outputs": [],
   "source": [
    "parsed = pd.read_csv(\"examples/csv_mindex.csv\",\n",
    "                     index_col=[\"key1\", \"key2\"])\n",
    "parsed"
   ]
  },
  {
   "cell_type": "markdown",
   "metadata": {},
   "source": [
    "    4) 여러 개의 공백으로 필드를 구분한 파일 \n",
    "        * sep 인수 - 필드을 구분하기 위해 사용할 정규 표현식"
   ]
  },
  {
   "cell_type": "code",
   "execution_count": null,
   "metadata": {},
   "outputs": [],
   "source": [
    "!cat examples/ex3.txt\n",
    "result = pd.read_csv(\"examples/ex3.txt\", sep = \"\\s+\") # s+ : spacebar가 복수개 정규표현식\n",
    "result"
   ]
  },
  {
   "cell_type": "markdown",
   "metadata": {},
   "source": [
    "    5) 주석을 갖고 있는 파일\n",
    "        * skiprows 인수 - 파일의 시작부터 무시할 행 수 또는 무시할 행 번호가 담긴 리스트"
   ]
  },
  {
   "cell_type": "code",
   "execution_count": null,
   "metadata": {},
   "outputs": [],
   "source": [
    "!cat examples/ex4.csv\n",
    "pd.read_csv(\"examples/ex4.csv\", skiprows=[0, 2, 3])"
   ]
  },
  {
   "cell_type": "markdown",
   "metadata": {},
   "source": [
    "    6) 누락된 값이 있는 파일 : 비어 있는 문자열, NA, NULL을 NaN으로 출력 \n",
    "        * na_values 인수 - NA 값으로 처리할 값들의 목록"
   ]
  },
  {
   "cell_type": "code",
   "execution_count": null,
   "metadata": {},
   "outputs": [],
   "source": [
    "!cat examples/ex5.csv\n",
    "\n",
    "result = pd.read_csv(\"examples/ex5.csv\")\n",
    "result\n",
    "\n",
    "# 1) 누락된 값을 확인 : isna()함수 이용\n",
    "pd.isna(result)\n",
    "\n",
    "# 2) na_values -> 컬럼별 문자열 집합을 받아서 누락된 값 처리\n",
    "sentinels = {\"message\": [\"foo\", \"NA\"], \"something\": [\"two\"]}\n",
    "result = pd.read_csv(\"examples/ex5.csv\", na_values=sentinels)\n",
    "print(result)\n",
    "result.isna()"
   ]
  },
  {
   "cell_type": "markdown",
   "metadata": {},
   "source": [
    "    7) 텍스트 파일 조금씩 \n",
    "        * nrows 인수 - 파일의 첫 일부만 읽어올 때 처음 몇 줄을 읽을 것인지 지정 \n",
    "        * chunksize 인수 - TextParser 객체에서 사용할 한 번에 익을 파일의 크기"
   ]
  },
  {
   "cell_type": "code",
   "execution_count": null,
   "metadata": {
    "scrolled": true
   },
   "outputs": [],
   "source": [
    "result = pd.read_csv(\"examples/ex6.csv\", nrows=5)\n",
    "result"
   ]
  },
  {
   "cell_type": "markdown",
   "metadata": {},
   "source": [
    "### [예제]  ex6.csv 파일을 순회하면서 \"key\"열의 값을 세기"
   ]
  },
  {
   "cell_type": "code",
   "execution_count": null,
   "metadata": {},
   "outputs": [],
   "source": [
    "chunker = pd.read_csv(\"examples/ex6.csv\", chunksize=1000) # 행을 1000개씩 잘라서 시리즈에 데이터 입력 후 통합\n",
    "\n",
    "tot = pd.Series([], dtype='int64') # 시리즈 객체 생성\n",
    "\n",
    "for piece in chunker:\n",
    "    tot = tot.add(piece[\"key\"].value_counts(), fill_value=0) # 데이터프레임의 특정 컬컴 값 추출(1000개씩)\n",
    "\n",
    "tot = tot.sort_values(ascending=False) # 정렬\n",
    "\n",
    "tot\n",
    "\n",
    "tot[:10] # 시리즈에서 슬라이싱해서 추출"
   ]
  },
  {
   "cell_type": "markdown",
   "metadata": {},
   "source": [
    "## 1.2. csv 텍스트 파일 저장하기\n",
    "* 판다스에서 CSV 파일을 저장하기: df.to_csv(path, encoding = 'utf-8') 함수를 사용\n",
    "    * path 인수 : 파일시스템에서의 위치, URL, 파일객체를 나타내는 문자열\n",
    "    * encoding 인수 - 유니코드 인코딩 종류을 지정\n"
   ]
  },
  {
   "cell_type": "code",
   "execution_count": null,
   "metadata": {},
   "outputs": [],
   "source": [
    "data = pd.read_csv(\"examples/ex5.csv\")\n",
    "data # 데이터프레임에 데이터 저장\n",
    "\n",
    "data1 = data[['a','b','d']] # 데이터프레임의 일부 데이터만 추출해서 데이터프레임 생성 -> 인덱싱\n",
    "data1\n",
    "\n",
    "data1.to_csv(\"examples/out.csv\") # 데이터프레임.to_csv(저장할 파일명)"
   ]
  },
  {
   "cell_type": "markdown",
   "metadata": {},
   "source": [
    "# 3. HTML 데이터\n",
    "## 3.1 웹 스크래핑 - read_html()"
   ]
  },
  {
   "attachments": {},
   "cell_type": "markdown",
   "metadata": {},
   "source": [
    "* pd.read_html() - html 문서 내 테이블 데이터 읽어 테이블 구조의 모든 데이터를 데이터프레임으로 저장해서 반환\n",
    "    * https://www.fdic.gov/resources/resolutions/bank-failures/failed-bank-list/\n"
   ]
  },
  {
   "cell_type": "markdown",
   "metadata": {},
   "source": [
    "#### [예제] 미국 예금 보험 공사에서 부도 은행을 보여주는 HTML 문서 읽어오기"
   ]
  },
  {
   "cell_type": "code",
   "execution_count": null,
   "metadata": {},
   "outputs": [],
   "source": [
    "import pandas as pd\n",
    "from pandas import Series, DataFrame\n",
    "\n",
    "tables = pd.read_html(\"https://www.fdic.gov/resources/resolutions/bank-failures/failed-bank-list/\")\n",
    "\n",
    "# print(type(tables))\n",
    "\n",
    "len(tables)\n",
    "\n",
    "failures = tables[0] # 인덱싱\n",
    "\n",
    "# print(type(failures))\n",
    "\n",
    "failures.head()"
   ]
  },
  {
   "cell_type": "code",
   "execution_count": null,
   "metadata": {},
   "outputs": [],
   "source": [
    "# 1) 컬럼명 수정하기\n",
    "# failures.columns\n",
    "\n",
    "# failures.columns = ['BankNameBank', 'CityCity', 'StateSt', 'CertCert', 'AcquiringInstitutionAI', 'ClosingDate', 'FundFund']\n",
    "\n",
    "failures.head(3)"
   ]
  },
  {
   "cell_type": "code",
   "execution_count": null,
   "metadata": {},
   "outputs": [],
   "source": [
    "# 2) 데이터 변환 : 시간/날짜 문자열 -> datetime 객체 변환\n",
    "# close_timestamps = pd.to_datetime(failures[\"ClosingDate\"])\n",
    "close_timestamps.head()\n",
    "\n",
    "# 3) 년도별 데이터 개수 추출\n",
    "close_timestamps.dt.year.value_counts()"
   ]
  },
  {
   "cell_type": "markdown",
   "metadata": {},
   "source": [
    "#### [실습] : 네이버 주식 데이터 가져오기 - read_html()\n",
    "* https://www.naver.com/ -> 증권 -> 국내증시 -> 시가총액\n",
    "    * https://finance.naver.com/sise/sise_market_sum.naver"
   ]
  },
  {
   "cell_type": "code",
   "execution_count": null,
   "metadata": {},
   "outputs": [],
   "source": [
    "!pip install html5lib lxml"
   ]
  },
  {
   "cell_type": "code",
   "execution_count": null,
   "metadata": {},
   "outputs": [],
   "source": [
    "import pandas as pd\n",
    "\n",
    "# 'euc-kr' 또는 'cp949'로 인코딩 설정하여 페이지 읽기 시도\n",
    "df_list = pd.read_html(\"https://finance.naver.com/sise/sise_market_sum.naver\", encoding='cp949')\n",
    "type(df_list)\n",
    "len(df_list)\n",
    "\n",
    "# 데이터프레임 확인\n",
    "# for df in df_list:\n",
    "#     print(df)\n",
    "\n",
    "df_list[1]"
   ]
  },
  {
   "cell_type": "code",
   "execution_count": null,
   "metadata": {},
   "outputs": [],
   "source": [
    "# 데이터프레임 탐색\n",
    "df = df_list[1]\n",
    "\n",
    "# 결측치 처리 - 종목명\n",
    "# 조건 색인을 이용해서 불리언 인덱싱으로 새로운 데이터프레임 생성\n",
    "# 1. 조건 색인\n",
    "cond = df['종목명'].notnull() # (= notna())\n",
    "\n",
    "# 2. 조건 색인을 데이터프레임에 넣어주기 - True 값만 추출\n",
    "data = df[cond]\n",
    "\n",
    "data\n",
    "data.head()\n",
    "\n",
    "# 최종 결과를 데이터프레임 형태로 저장 - df.to_csv(파일명)\n",
    "data.to_csv(\"Naver_kospi.csv\")"
   ]
  },
  {
   "cell_type": "markdown",
   "metadata": {},
   "source": [
    "## 3.2 웹 스크래핑 - requests"
   ]
  },
  {
   "cell_type": "markdown",
   "metadata": {},
   "source": [
    "* 웹 페이지 정보 가져오기 - requests 패키지 이용\n",
    "  * requests.get()\n",
    "  * requests.get().status_code\n",
    "  * requests.get().text\n"
   ]
  },
  {
   "cell_type": "markdown",
   "metadata": {},
   "source": [
    "### [예제] "
   ]
  },
  {
   "cell_type": "code",
   "execution_count": null,
   "metadata": {},
   "outputs": [],
   "source": [
    "# 1. requests 모듈 설치하기\n",
    "!pip install requests"
   ]
  },
  {
   "cell_type": "code",
   "execution_count": null,
   "metadata": {},
   "outputs": [],
   "source": [
    "# 2. requests 모듈 임포트하기\n",
    "import requests\n",
    "\n",
    "# 3. url 가져오기\n",
    "url = \"https://api.github.com/repos/pandas-dev/pandas/issues\"\n",
    "resp = requests.get(url)\n",
    "print(resp.status_code)\n",
    "\n",
    "# 4. 웹페이지 내용 텍스트 확인\n",
    "resp.text\n",
    "\n",
    "# 5. json 내용을 딕셔너리로 변환\n",
    "data = resp.json() # json의 내용을 딕셔너리 형태로 변환한 객체을 반환\n",
    "print(type(data))\n",
    "print(len(data))\n",
    "\n",
    "# 6. json 내용 확인\n",
    "data[0]['title']\n",
    "\n",
    "# 7. json 딕셔너리\n",
    "data[0].keys() # 키 정보 출력\n",
    "\n",
    "# 8. 딕셔너리를 DataFrame으로 생성하기\n",
    "issues = pd.DataFrame(data, columns=[\"number\", \"title\", \"labels\", \"state\"])\n",
    "issues.head()\n",
    "\n",
    "# 데이터프레임을 저장\n",
    "issues.to_csv(\"pandas_issues.csv\")"
   ]
  },
  {
   "cell_type": "markdown",
   "metadata": {},
   "source": [
    "### [문제] 네이버 블로그의 키워드 관련 검색 결과 텍스트 데이터 가져오기 - requests 모듈 사용시 한계점"
   ]
  },
  {
   "cell_type": "code",
   "execution_count": null,
   "metadata": {
    "scrolled": true
   },
   "outputs": [],
   "source": [
    "import requests\n",
    "\n",
    "# url = \"https://section.blog.naver.com/Search/Post.naver?pageNo=1&rangeType=ALL&orderBy=sim&keyword=%ED%8C%8C%EC%9D%B4%EC%8D%AC\"\n",
    "# response = requests.get(url)\n",
    "\n",
    "params = {\n",
    "    'pageNo' : 1,\n",
    "    'rangeType' : 'ALL',\n",
    "    'orderBy' : 'sim',\n",
    "    'keyword' : '파이썬'\n",
    "}\n",
    "response = requests.get('https://section.blog.naver.com/Search/Post.naver?', params=params)\n",
    "\n",
    "print(response.status_code) # HTTP GET 방식으로 URL 파라미터 값 전달\n",
    "print(response.url) # status_code 는 응답코드\n",
    "print(response.text) # text에는 HTML 코드"
   ]
  },
  {
   "cell_type": "markdown",
   "metadata": {
    "jp-MarkdownHeadingCollapsed": true
   },
   "source": [
    "## 3.3 웹 스크래핑 - beautifulsoup\n",
    "* 웹 페이지 정보 추출하기 - beautifulsoup 사용법 \n",
    "  * soup.select_one()\n",
    "  * soup.select()\n",
    "  * get_text()\n",
    "* 개발자 도구 사용"
   ]
  },
  {
   "cell_type": "markdown",
   "metadata": {},
   "source": [
    "### [문제] 네이버 지식iN의 검색어 관련 검색 결과 제목 가져오기"
   ]
  },
  {
   "cell_type": "code",
   "execution_count": null,
   "metadata": {},
   "outputs": [],
   "source": [
    "import requests\n",
    "from bs4 import BeautifulSoup\n",
    "\n",
    "url = \"https://kin.naver.com/search/list.naver?query=%ED%8C%8C%EC%9D%B4%EC%8D%AC\"\n",
    "response = requests.get(url)\n",
    "\n",
    "if response.status_code == 200:\n",
    "    html = response.text\n",
    "    \n",
    "    # 웹 페이지의 원하는 데이터 정보 추출\n",
    "    # 1. html -> beautifulsoup 객체로 변환\n",
    "    soup = BeautifulSoup(html, 'html.parser')\n",
    "\n",
    "    # 2. 첫 번째 제목 한 개 선택하여 텍스트 가져오기\n",
    "    # title = soup.select_one('#s_content > div.section > ul > li:nth-child(1) > dl > dt > a')\n",
    "    # print(title.get_text())\n",
    "\n",
    "    # 첫 번째 웹페이지의 모든 제목들을 선택하여 텍스트 리스트 가져오기\n",
    "    titles = soup.select('#s_content > div.section > ul > li:nth-child(n) > dl > dt > a')\n",
    "    print(type(titles))\n",
    "    \n",
    "    for title in titles:\n",
    "        print(title.get_text())\n",
    "else:\n",
    "    print(response.status_code)\n",
    "\n"
   ]
  },
  {
   "cell_type": "markdown",
   "metadata": {},
   "source": [
    "## 3.4 웹 스크래핑 - Selenium을 이용하여 사이트 자동화하기\n",
    "* selenium 사용법\n",
    "  1. 시스템의 OS 및 Chrome 브라우저의 버전 확인\n",
    "  2. Chrome 드라이버 다운로드 및 설치\n",
    "  3. 크롬 드라이버을 프로젝트 폴더에 저장 - 크롬 드라이버의 설치 경로\n",
    "     * from selenium import webdriver\n",
    "     * driver = webdriver.Chrome()\n",
    "* 동적으로 웹 페이지 정보 추출하기\n",
    "     * driver.get(\"웹주소\") \n",
    "  "
   ]
  },
  {
   "cell_type": "markdown",
   "metadata": {},
   "source": [
    "### [예제] Chrome Driver 사용 코드"
   ]
  },
  {
   "cell_type": "code",
   "execution_count": 2,
   "metadata": {},
   "outputs": [
    {
     "name": "stdout",
     "output_type": "stream",
     "text": [
      "Requirement already satisfied: selenium in c:\\mybigdatacode\\mybigdata\\venv\\lib\\site-packages (4.19.0)\n",
      "Requirement already satisfied: urllib3<3,>=1.26 in c:\\mybigdatacode\\mybigdata\\venv\\lib\\site-packages (from urllib3[socks]<3,>=1.26->selenium) (2.2.1)\n",
      "Requirement already satisfied: trio~=0.17 in c:\\mybigdatacode\\mybigdata\\venv\\lib\\site-packages (from selenium) (0.25.0)\n",
      "Requirement already satisfied: trio-websocket~=0.9 in c:\\mybigdatacode\\mybigdata\\venv\\lib\\site-packages (from selenium) (0.11.1)\n",
      "Requirement already satisfied: certifi>=2021.10.8 in c:\\mybigdatacode\\mybigdata\\venv\\lib\\site-packages (from selenium) (2024.2.2)\n",
      "Requirement already satisfied: typing_extensions>=4.9.0 in c:\\mybigdatacode\\mybigdata\\venv\\lib\\site-packages (from selenium) (4.10.0)\n",
      "Requirement already satisfied: attrs>=23.2.0 in c:\\mybigdatacode\\mybigdata\\venv\\lib\\site-packages (from trio~=0.17->selenium) (23.2.0)\n",
      "Requirement already satisfied: sortedcontainers in c:\\mybigdatacode\\mybigdata\\venv\\lib\\site-packages (from trio~=0.17->selenium) (2.4.0)\n",
      "Requirement already satisfied: idna in c:\\mybigdatacode\\mybigdata\\venv\\lib\\site-packages (from trio~=0.17->selenium) (3.6)\n",
      "Requirement already satisfied: outcome in c:\\mybigdatacode\\mybigdata\\venv\\lib\\site-packages (from trio~=0.17->selenium) (1.3.0.post0)\n",
      "Requirement already satisfied: sniffio>=1.3.0 in c:\\mybigdatacode\\mybigdata\\venv\\lib\\site-packages (from trio~=0.17->selenium) (1.3.1)\n",
      "Requirement already satisfied: cffi>=1.14 in c:\\mybigdatacode\\mybigdata\\venv\\lib\\site-packages (from trio~=0.17->selenium) (1.16.0)\n",
      "Requirement already satisfied: wsproto>=0.14 in c:\\mybigdatacode\\mybigdata\\venv\\lib\\site-packages (from trio-websocket~=0.9->selenium) (1.2.0)\n",
      "Requirement already satisfied: pysocks!=1.5.7,<2.0,>=1.5.6 in c:\\mybigdatacode\\mybigdata\\venv\\lib\\site-packages (from urllib3[socks]<3,>=1.26->selenium) (1.7.1)\n",
      "Requirement already satisfied: pycparser in c:\\mybigdatacode\\mybigdata\\venv\\lib\\site-packages (from cffi>=1.14->trio~=0.17->selenium) (2.22)\n",
      "Requirement already satisfied: h11<1,>=0.9.0 in c:\\mybigdatacode\\mybigdata\\venv\\lib\\site-packages (from wsproto>=0.14->trio-websocket~=0.9->selenium) (0.14.0)\n"
     ]
    }
   ],
   "source": [
    "!pip install selenium"
   ]
  },
  {
   "cell_type": "code",
   "execution_count": 6,
   "metadata": {},
   "outputs": [],
   "source": [
    "from selenium import webdriver\n",
    "\n",
    "# Chrome 브라우저 실행\n",
    "driver = webdriver.Chrome()\n",
    "\n",
    "# 타겟 웹페이지 열기\n",
    "url = \"https://www.google.com\"\n",
    "driver.get(url)\n",
    "# driver.quit() # 드라이버 종료"
   ]
  },
  {
   "cell_type": "markdown",
   "metadata": {},
   "source": [
    "### [문제] 구글 검색창에서 \"openAI\"로 검색한 결과를 제목과 url로 출력하는 자동 프로그램 작성\n",
    "\n",
    "### Selenium을 이용하여 타겟 웹사이트 실행하기 / 검색어의 제목과 url 출력\n",
    "\n",
    "* 크롬 브라우저를 이용하여 \"openAI\" 사용\n",
    "* 구글 개발자 도구 이용\n"
   ]
  },
  {
   "cell_type": "code",
   "execution_count": 8,
   "metadata": {},
   "outputs": [
    {
     "name": "stdout",
     "output_type": "stream",
     "text": [
      "제목: OpenAI\n",
      "URL: https://openai.com/\n",
      "\n",
      "제목: OpenAI\n",
      "URL: https://openai.com/\n",
      "\n",
      "제목: OpenAI\n",
      "URL: https://namu.wiki/w/OpenAI\n",
      "\n",
      "제목: OpenAI\n",
      "URL: https://en.wikipedia.org/wiki/OpenAI\n",
      "\n",
      "제목: 오픈AI - 위키백과, 우리 모두의 백과사전\n",
      "URL: https://ko.wikipedia.org/wiki/%EC%98%A4%ED%94%88AI\n",
      "\n",
      "제목: OpenAI\n",
      "URL: https://www.youtube.com/@OpenAI\n",
      "\n",
      "제목: OpenAI\n",
      "URL: https://twitter.com/OpenAI\n",
      "\n",
      "제목: 설명\n",
      "URL: https://www.google.com/search?q=OpenAI&sca_esv=954f74c53a241618&source=hp&ei=M9gUZsv4Jf60vr0PjpqdoA8&iflsig=ANes7DEAAAAAZhTmQ4bmx613-IvHy7x8hlXniIxjhfIY&udm=&ved=0ahUKEwiL3ub_uLSFAxV-mq8BHQ5NB_QQ4dUDCA8&uact=5&oq=OpenAI&gs_lp=Egdnd3Mtd2l6IgZPcGVuQUlIJ1AAWA1wAHgAkAEAmAEAoAEAqgEAuAEDyAEA-AEBmAIAoAIAmAMAkgcAoAcA&sclient=gws-wiz#\n",
      "\n"
     ]
    }
   ],
   "source": [
    "from selenium import webdriver\n",
    "from selenium.webdriver.common.by import By\n",
    "from selenium.webdriver.common.keys import Keys\n",
    "import time\n",
    "\n",
    "# Chrome 브라우저 실행\n",
    "driver = webdriver.Chrome()\n",
    "\n",
    "# 타겟 웹페이지 열기\n",
    "url = \"https://www.google.com\"\n",
    "driver.get(url)\n",
    "\n",
    "# 페이지가 완전히 로드될 때까지 2초 대기\n",
    "time.sleep(5)\n",
    "\n",
    "try:\n",
    "    # 1. 검색 상자 요소 찾기\n",
    "    search_box = driver.find_element(By.NAME, \"q\")\n",
    "\n",
    "    # 2. 검색어 입력\n",
    "    search_query = \"OpenAI\"\n",
    "    search_box.send_keys(search_query)\n",
    "\n",
    "    # 3. Enter 키를 눌러 검색 수행\n",
    "    search_box.send_keys(Keys.RETURN)\n",
    "\n",
    "    # 검색 결과가 로드될 때까지 5초 대기\n",
    "    time.sleep(5)\n",
    "\n",
    "    # 4. 검색 결과 추출\n",
    "    search_results = driver.find_elements(By.CSS_SELECTOR, \"div.g\") # <div class = \"g\"> </div>\n",
    "\n",
    "    # 검색 결과의 제목(<h3> </h3>)과 URL(<a href = \"...\"> </a>) 인쇄\n",
    "    for result in search_results:\n",
    "        title = result.find_element(By.CSS_SELECTOR, \"h3\").text\n",
    "        url = result.find_element(By.CSS_SELECTOR, \"a\").get_attribute(\"href\")\n",
    "        print(\"제목:\", title)\n",
    "        print(\"URL:\", url)\n",
    "        print()\n",
    "\n",
    "except Exception as e:\n",
    "    print(\"오류가 발생했습니다:\", e)\n",
    "\n",
    "finally:\n",
    "    # 브라우저 창 닫기\n",
    "    driver.quit()\n"
   ]
  },
  {
   "cell_type": "markdown",
   "metadata": {},
   "source": [
    "### [응용문제] : 시가 총액이 높은 상위 500개 기업의 데이터를 가져오기\n",
    "\n",
    " - 1 ~ 50 페이지 중 10개 페이지만 데이터 읽어오기\n",
    " - 10개 개 페이지를 하나의 데이터로 합치기\n",
    " - 결과를 csv 파일로 저장\n",
    " - url의 페이지 번호 실행하기"
   ]
  },
  {
   "cell_type": "code",
   "execution_count": null,
   "metadata": {},
   "outputs": [],
   "source": [
    "from selenium import webdriver\n",
    "import pandas as pd\n",
    "import time"
   ]
  },
  {
   "cell_type": "code",
   "execution_count": null,
   "metadata": {},
   "outputs": [],
   "source": [
    "# Chrome 브라우저를 열고 웹페이지로 이동\n",
    "driver = webdriver.Chrome()\n",
    "\n",
    "# 시가총액 상위 500개 기업 데이터를 가져올 url\n",
    "url = \"https://finance.naver.com/sise/sise_market_sum.naver?&page=\"\n",
    "\n",
    "# 10개 페이지의 데이터를 저장할 리스트\n",
    "kospi500 = []\n",
    "\n",
    "# 10개 페이지에 대해 반복하여 데이터 수집\n",
    "for num in range(1, 11): # 페이지 번호 제어\n",
    "    full_url = url + str(num)\n",
    "    driver.get(full_url) # 페이지로 이동\n",
    "    time.sleep(2) # 페이지가 로드될 대까지 기다림\n",
    "    html = driver.page_source # 페이지의 html 가져오기\n",
    "    data = pd.read_html(html) # html을 데이터프레임으로 읽기 시도\n",
    "    df = data[1] # 두 번째 테이블에 종목 데이터가 있음\n",
    "    df = df[df['종목명'].notnull()] # 조건 색인으로 결측치 처리\n",
    "    kospi500.append(df) # 선택된 데이터를 리스트에 추가\n",
    "\n",
    "# 10개 페이지의 데이터를 하나의 데이터프레임으로 합치기\n",
    "combined_df = pd.concat(kospi500)\n",
    "\n",
    "# 결과 출력\n",
    "combined_df.to_csv(\"combined_kospi.csv\")\n",
    "\n",
    "# # 드라이버 닫기\n",
    "# driver.quit()\n"
   ]
  },
  {
   "cell_type": "markdown",
   "metadata": {},
   "source": [
    "### [문제] 삼성전자의 시가총액의 일별 시세 데이터 가져오기\n",
    "* Selenium을 사용하여 웹페이지를 열고, 페이지의 html을 가져와서 BeautifulSoup을 사용하여 일별 시세 데이터가 있는 테이블을 찾기\n",
    "* 이후 데이터를 데이터프레임으로 변황하여 출력하기"
   ]
  },
  {
   "cell_type": "code",
   "execution_count": 11,
   "metadata": {},
   "outputs": [],
   "source": [
    "from selenium import webdriver\n",
    "from bs4 import BeautifulSoup\n",
    "import pandas as pd\n",
    "import time"
   ]
  },
  {
   "cell_type": "code",
   "execution_count": 36,
   "metadata": {},
   "outputs": [],
   "source": [
    "# Chrome 브라우저 실행\n",
    "driver = webdriver.Chrome()"
   ]
  },
  {
   "cell_type": "code",
   "execution_count": 37,
   "metadata": {},
   "outputs": [],
   "source": [
    "# 페이지가 완전히 로드될 때까지 2초 대기\n",
    "time.sleep(2)"
   ]
  },
  {
   "cell_type": "code",
   "execution_count": 38,
   "metadata": {
    "scrolled": true
   },
   "outputs": [],
   "source": [
    "# target 웹페이지 url - 사전 작업\n",
    "# 삼성전자 일별 시세 정보 페이지\n",
    "samsung_url = \"https://finance.naver.com/item/sise_day.naver?code=005930&page=\"\n",
    "samsung_daily_kospi = []"
   ]
  },
  {
   "cell_type": "code",
   "execution_count": 39,
   "metadata": {
    "scrolled": true
   },
   "outputs": [
    {
     "name": "stderr",
     "output_type": "stream",
     "text": [
      "C:\\Users\\irunn\\AppData\\Local\\Temp\\ipykernel_11784\\2729682859.py:10: FutureWarning: Passing literal html to 'read_html' is deprecated and will be removed in a future version. To read from a literal string, wrap it in a 'StringIO' object.\n",
      "  df = pd.read_html(html)\n",
      "C:\\Users\\irunn\\AppData\\Local\\Temp\\ipykernel_11784\\2729682859.py:10: FutureWarning: Passing literal html to 'read_html' is deprecated and will be removed in a future version. To read from a literal string, wrap it in a 'StringIO' object.\n",
      "  df = pd.read_html(html)\n"
     ]
    },
    {
     "name": "stdout",
     "output_type": "stream",
     "text": [
      "            날짜       종가     전일비       시가       고가       저가         거래량\n",
      "1   2024.04.09  83600.0   900.0  84500.0  84900.0  83100.0  18338249.0\n",
      "2   2024.04.08  84500.0     0.0  85200.0  86000.0  84500.0  18953232.0\n",
      "3   2024.04.05  84500.0   800.0  84500.0  85000.0  83800.0  18883752.0\n",
      "4   2024.04.04  85300.0  1200.0  85200.0  85500.0  84300.0  25248934.0\n",
      "5   2024.04.03  84100.0   900.0  84300.0  85000.0  83500.0  30493347.0\n",
      "9   2024.04.02  85000.0  3000.0  82900.0  85000.0  82900.0  37077944.0\n",
      "10  2024.04.01  82000.0   400.0  83200.0  83300.0  82000.0  20116513.0\n",
      "11  2024.03.29  82400.0  1600.0  81200.0  82500.0  80900.0  27126366.0\n",
      "12  2024.03.28  80800.0  1000.0  79400.0  81000.0  79200.0  25084812.0\n",
      "13  2024.03.27  79800.0   100.0  79200.0  80000.0  79200.0  17424595.0\n",
      "            날짜       종가     전일비       시가       고가       저가         거래량\n",
      "1   2024.04.09  83600.0   900.0  84500.0  84900.0  83100.0  18338249.0\n",
      "2   2024.04.08  84500.0     0.0  85200.0  86000.0  84500.0  18953232.0\n",
      "3   2024.04.05  84500.0   800.0  84500.0  85000.0  83800.0  18883752.0\n",
      "4   2024.04.04  85300.0  1200.0  85200.0  85500.0  84300.0  25248934.0\n",
      "5   2024.04.03  84100.0   900.0  84300.0  85000.0  83500.0  30493347.0\n",
      "9   2024.04.02  85000.0  3000.0  82900.0  85000.0  82900.0  37077944.0\n",
      "10  2024.04.01  82000.0   400.0  83200.0  83300.0  82000.0  20116513.0\n",
      "11  2024.03.29  82400.0  1600.0  81200.0  82500.0  80900.0  27126366.0\n",
      "12  2024.03.28  80800.0  1000.0  79400.0  81000.0  79200.0  25084812.0\n",
      "13  2024.03.27  79800.0   100.0  79200.0  80000.0  79200.0  17424595.0\n"
     ]
    },
    {
     "name": "stderr",
     "output_type": "stream",
     "text": [
      "C:\\Users\\irunn\\AppData\\Local\\Temp\\ipykernel_11784\\2729682859.py:10: FutureWarning: Passing literal html to 'read_html' is deprecated and will be removed in a future version. To read from a literal string, wrap it in a 'StringIO' object.\n",
      "  df = pd.read_html(html)\n",
      "C:\\Users\\irunn\\AppData\\Local\\Temp\\ipykernel_11784\\2729682859.py:10: FutureWarning: Passing literal html to 'read_html' is deprecated and will be removed in a future version. To read from a literal string, wrap it in a 'StringIO' object.\n",
      "  df = pd.read_html(html)\n"
     ]
    },
    {
     "name": "stdout",
     "output_type": "stream",
     "text": [
      "            날짜       종가     전일비       시가       고가       저가         거래량\n",
      "1   2024.04.09  83600.0   900.0  84500.0  84900.0  83100.0  18338249.0\n",
      "2   2024.04.08  84500.0     0.0  85200.0  86000.0  84500.0  18953232.0\n",
      "3   2024.04.05  84500.0   800.0  84500.0  85000.0  83800.0  18883752.0\n",
      "4   2024.04.04  85300.0  1200.0  85200.0  85500.0  84300.0  25248934.0\n",
      "5   2024.04.03  84100.0   900.0  84300.0  85000.0  83500.0  30493347.0\n",
      "9   2024.04.02  85000.0  3000.0  82900.0  85000.0  82900.0  37077944.0\n",
      "10  2024.04.01  82000.0   400.0  83200.0  83300.0  82000.0  20116513.0\n",
      "11  2024.03.29  82400.0  1600.0  81200.0  82500.0  80900.0  27126366.0\n",
      "12  2024.03.28  80800.0  1000.0  79400.0  81000.0  79200.0  25084812.0\n",
      "13  2024.03.27  79800.0   100.0  79200.0  80000.0  79200.0  17424595.0\n",
      "            날짜       종가     전일비       시가       고가       저가         거래량\n",
      "1   2024.04.09  83600.0   900.0  84500.0  84900.0  83100.0  18338249.0\n",
      "2   2024.04.08  84500.0     0.0  85200.0  86000.0  84500.0  18953232.0\n",
      "3   2024.04.05  84500.0   800.0  84500.0  85000.0  83800.0  18883752.0\n",
      "4   2024.04.04  85300.0  1200.0  85200.0  85500.0  84300.0  25248934.0\n",
      "5   2024.04.03  84100.0   900.0  84300.0  85000.0  83500.0  30493347.0\n",
      "9   2024.04.02  85000.0  3000.0  82900.0  85000.0  82900.0  37077944.0\n",
      "10  2024.04.01  82000.0   400.0  83200.0  83300.0  82000.0  20116513.0\n",
      "11  2024.03.29  82400.0  1600.0  81200.0  82500.0  80900.0  27126366.0\n",
      "12  2024.03.28  80800.0  1000.0  79400.0  81000.0  79200.0  25084812.0\n",
      "13  2024.03.27  79800.0   100.0  79200.0  80000.0  79200.0  17424595.0\n"
     ]
    },
    {
     "name": "stderr",
     "output_type": "stream",
     "text": [
      "C:\\Users\\irunn\\AppData\\Local\\Temp\\ipykernel_11784\\2729682859.py:10: FutureWarning: Passing literal html to 'read_html' is deprecated and will be removed in a future version. To read from a literal string, wrap it in a 'StringIO' object.\n",
      "  df = pd.read_html(html)\n",
      "C:\\Users\\irunn\\AppData\\Local\\Temp\\ipykernel_11784\\2729682859.py:10: FutureWarning: Passing literal html to 'read_html' is deprecated and will be removed in a future version. To read from a literal string, wrap it in a 'StringIO' object.\n",
      "  df = pd.read_html(html)\n"
     ]
    },
    {
     "name": "stdout",
     "output_type": "stream",
     "text": [
      "            날짜       종가     전일비       시가       고가       저가         거래량\n",
      "1   2024.04.09  83600.0   900.0  84500.0  84900.0  83100.0  18338249.0\n",
      "2   2024.04.08  84500.0     0.0  85200.0  86000.0  84500.0  18953232.0\n",
      "3   2024.04.05  84500.0   800.0  84500.0  85000.0  83800.0  18883752.0\n",
      "4   2024.04.04  85300.0  1200.0  85200.0  85500.0  84300.0  25248934.0\n",
      "5   2024.04.03  84100.0   900.0  84300.0  85000.0  83500.0  30493347.0\n",
      "9   2024.04.02  85000.0  3000.0  82900.0  85000.0  82900.0  37077944.0\n",
      "10  2024.04.01  82000.0   400.0  83200.0  83300.0  82000.0  20116513.0\n",
      "11  2024.03.29  82400.0  1600.0  81200.0  82500.0  80900.0  27126366.0\n",
      "12  2024.03.28  80800.0  1000.0  79400.0  81000.0  79200.0  25084812.0\n",
      "13  2024.03.27  79800.0   100.0  79200.0  80000.0  79200.0  17424595.0\n",
      "            날짜       종가     전일비       시가       고가       저가         거래량\n",
      "1   2024.04.09  83600.0   900.0  84500.0  84900.0  83100.0  18338249.0\n",
      "2   2024.04.08  84500.0     0.0  85200.0  86000.0  84500.0  18953232.0\n",
      "3   2024.04.05  84500.0   800.0  84500.0  85000.0  83800.0  18883752.0\n",
      "4   2024.04.04  85300.0  1200.0  85200.0  85500.0  84300.0  25248934.0\n",
      "5   2024.04.03  84100.0   900.0  84300.0  85000.0  83500.0  30493347.0\n",
      "9   2024.04.02  85000.0  3000.0  82900.0  85000.0  82900.0  37077944.0\n",
      "10  2024.04.01  82000.0   400.0  83200.0  83300.0  82000.0  20116513.0\n",
      "11  2024.03.29  82400.0  1600.0  81200.0  82500.0  80900.0  27126366.0\n",
      "12  2024.03.28  80800.0  1000.0  79400.0  81000.0  79200.0  25084812.0\n",
      "13  2024.03.27  79800.0   100.0  79200.0  80000.0  79200.0  17424595.0\n"
     ]
    },
    {
     "name": "stderr",
     "output_type": "stream",
     "text": [
      "C:\\Users\\irunn\\AppData\\Local\\Temp\\ipykernel_11784\\2729682859.py:10: FutureWarning: Passing literal html to 'read_html' is deprecated and will be removed in a future version. To read from a literal string, wrap it in a 'StringIO' object.\n",
      "  df = pd.read_html(html)\n",
      "C:\\Users\\irunn\\AppData\\Local\\Temp\\ipykernel_11784\\2729682859.py:10: FutureWarning: Passing literal html to 'read_html' is deprecated and will be removed in a future version. To read from a literal string, wrap it in a 'StringIO' object.\n",
      "  df = pd.read_html(html)\n"
     ]
    },
    {
     "name": "stdout",
     "output_type": "stream",
     "text": [
      "            날짜       종가     전일비       시가       고가       저가         거래량\n",
      "1   2024.04.09  83600.0   900.0  84500.0  84900.0  83100.0  18338249.0\n",
      "2   2024.04.08  84500.0     0.0  85200.0  86000.0  84500.0  18953232.0\n",
      "3   2024.04.05  84500.0   800.0  84500.0  85000.0  83800.0  18883752.0\n",
      "4   2024.04.04  85300.0  1200.0  85200.0  85500.0  84300.0  25248934.0\n",
      "5   2024.04.03  84100.0   900.0  84300.0  85000.0  83500.0  30493347.0\n",
      "9   2024.04.02  85000.0  3000.0  82900.0  85000.0  82900.0  37077944.0\n",
      "10  2024.04.01  82000.0   400.0  83200.0  83300.0  82000.0  20116513.0\n",
      "11  2024.03.29  82400.0  1600.0  81200.0  82500.0  80900.0  27126366.0\n",
      "12  2024.03.28  80800.0  1000.0  79400.0  81000.0  79200.0  25084812.0\n",
      "13  2024.03.27  79800.0   100.0  79200.0  80000.0  79200.0  17424595.0\n",
      "            날짜       종가     전일비       시가       고가       저가         거래량\n",
      "1   2024.04.09  83600.0   900.0  84500.0  84900.0  83100.0  18338249.0\n",
      "2   2024.04.08  84500.0     0.0  85200.0  86000.0  84500.0  18953232.0\n",
      "3   2024.04.05  84500.0   800.0  84500.0  85000.0  83800.0  18883752.0\n",
      "4   2024.04.04  85300.0  1200.0  85200.0  85500.0  84300.0  25248934.0\n",
      "5   2024.04.03  84100.0   900.0  84300.0  85000.0  83500.0  30493347.0\n",
      "9   2024.04.02  85000.0  3000.0  82900.0  85000.0  82900.0  37077944.0\n",
      "10  2024.04.01  82000.0   400.0  83200.0  83300.0  82000.0  20116513.0\n",
      "11  2024.03.29  82400.0  1600.0  81200.0  82500.0  80900.0  27126366.0\n",
      "12  2024.03.28  80800.0  1000.0  79400.0  81000.0  79200.0  25084812.0\n",
      "13  2024.03.27  79800.0   100.0  79200.0  80000.0  79200.0  17424595.0\n"
     ]
    },
    {
     "name": "stderr",
     "output_type": "stream",
     "text": [
      "C:\\Users\\irunn\\AppData\\Local\\Temp\\ipykernel_11784\\2729682859.py:10: FutureWarning: Passing literal html to 'read_html' is deprecated and will be removed in a future version. To read from a literal string, wrap it in a 'StringIO' object.\n",
      "  df = pd.read_html(html)\n",
      "C:\\Users\\irunn\\AppData\\Local\\Temp\\ipykernel_11784\\2729682859.py:10: FutureWarning: Passing literal html to 'read_html' is deprecated and will be removed in a future version. To read from a literal string, wrap it in a 'StringIO' object.\n",
      "  df = pd.read_html(html)\n"
     ]
    },
    {
     "name": "stdout",
     "output_type": "stream",
     "text": [
      "            날짜       종가     전일비       시가       고가       저가         거래량\n",
      "1   2024.04.09  83600.0   900.0  84500.0  84900.0  83100.0  18338249.0\n",
      "2   2024.04.08  84500.0     0.0  85200.0  86000.0  84500.0  18953232.0\n",
      "3   2024.04.05  84500.0   800.0  84500.0  85000.0  83800.0  18883752.0\n",
      "4   2024.04.04  85300.0  1200.0  85200.0  85500.0  84300.0  25248934.0\n",
      "5   2024.04.03  84100.0   900.0  84300.0  85000.0  83500.0  30493347.0\n",
      "9   2024.04.02  85000.0  3000.0  82900.0  85000.0  82900.0  37077944.0\n",
      "10  2024.04.01  82000.0   400.0  83200.0  83300.0  82000.0  20116513.0\n",
      "11  2024.03.29  82400.0  1600.0  81200.0  82500.0  80900.0  27126366.0\n",
      "12  2024.03.28  80800.0  1000.0  79400.0  81000.0  79200.0  25084812.0\n",
      "13  2024.03.27  79800.0   100.0  79200.0  80000.0  79200.0  17424595.0\n",
      "            날짜       종가     전일비       시가       고가       저가         거래량\n",
      "1   2024.04.09  83600.0   900.0  84500.0  84900.0  83100.0  18338249.0\n",
      "2   2024.04.08  84500.0     0.0  85200.0  86000.0  84500.0  18953232.0\n",
      "3   2024.04.05  84500.0   800.0  84500.0  85000.0  83800.0  18883752.0\n",
      "4   2024.04.04  85300.0  1200.0  85200.0  85500.0  84300.0  25248934.0\n",
      "5   2024.04.03  84100.0   900.0  84300.0  85000.0  83500.0  30493347.0\n",
      "9   2024.04.02  85000.0  3000.0  82900.0  85000.0  82900.0  37077944.0\n",
      "10  2024.04.01  82000.0   400.0  83200.0  83300.0  82000.0  20116513.0\n",
      "11  2024.03.29  82400.0  1600.0  81200.0  82500.0  80900.0  27126366.0\n",
      "12  2024.03.28  80800.0  1000.0  79400.0  81000.0  79200.0  25084812.0\n",
      "13  2024.03.27  79800.0   100.0  79200.0  80000.0  79200.0  17424595.0\n"
     ]
    },
    {
     "name": "stderr",
     "output_type": "stream",
     "text": [
      "C:\\Users\\irunn\\AppData\\Local\\Temp\\ipykernel_11784\\2729682859.py:10: FutureWarning: Passing literal html to 'read_html' is deprecated and will be removed in a future version. To read from a literal string, wrap it in a 'StringIO' object.\n",
      "  df = pd.read_html(html)\n",
      "C:\\Users\\irunn\\AppData\\Local\\Temp\\ipykernel_11784\\2729682859.py:10: FutureWarning: Passing literal html to 'read_html' is deprecated and will be removed in a future version. To read from a literal string, wrap it in a 'StringIO' object.\n",
      "  df = pd.read_html(html)\n"
     ]
    },
    {
     "name": "stdout",
     "output_type": "stream",
     "text": [
      "            날짜       종가     전일비       시가       고가       저가         거래량\n",
      "1   2024.04.09  83600.0   900.0  84500.0  84900.0  83100.0  18338249.0\n",
      "2   2024.04.08  84500.0     0.0  85200.0  86000.0  84500.0  18953232.0\n",
      "3   2024.04.05  84500.0   800.0  84500.0  85000.0  83800.0  18883752.0\n",
      "4   2024.04.04  85300.0  1200.0  85200.0  85500.0  84300.0  25248934.0\n",
      "5   2024.04.03  84100.0   900.0  84300.0  85000.0  83500.0  30493347.0\n",
      "9   2024.04.02  85000.0  3000.0  82900.0  85000.0  82900.0  37077944.0\n",
      "10  2024.04.01  82000.0   400.0  83200.0  83300.0  82000.0  20116513.0\n",
      "11  2024.03.29  82400.0  1600.0  81200.0  82500.0  80900.0  27126366.0\n",
      "12  2024.03.28  80800.0  1000.0  79400.0  81000.0  79200.0  25084812.0\n",
      "13  2024.03.27  79800.0   100.0  79200.0  80000.0  79200.0  17424595.0\n",
      "            날짜       종가     전일비       시가       고가       저가         거래량\n",
      "1   2024.04.09  83600.0   900.0  84500.0  84900.0  83100.0  18338249.0\n",
      "2   2024.04.08  84500.0     0.0  85200.0  86000.0  84500.0  18953232.0\n",
      "3   2024.04.05  84500.0   800.0  84500.0  85000.0  83800.0  18883752.0\n",
      "4   2024.04.04  85300.0  1200.0  85200.0  85500.0  84300.0  25248934.0\n",
      "5   2024.04.03  84100.0   900.0  84300.0  85000.0  83500.0  30493347.0\n",
      "9   2024.04.02  85000.0  3000.0  82900.0  85000.0  82900.0  37077944.0\n",
      "10  2024.04.01  82000.0   400.0  83200.0  83300.0  82000.0  20116513.0\n",
      "11  2024.03.29  82400.0  1600.0  81200.0  82500.0  80900.0  27126366.0\n",
      "12  2024.03.28  80800.0  1000.0  79400.0  81000.0  79200.0  25084812.0\n",
      "13  2024.03.27  79800.0   100.0  79200.0  80000.0  79200.0  17424595.0\n"
     ]
    },
    {
     "name": "stderr",
     "output_type": "stream",
     "text": [
      "C:\\Users\\irunn\\AppData\\Local\\Temp\\ipykernel_11784\\2729682859.py:10: FutureWarning: Passing literal html to 'read_html' is deprecated and will be removed in a future version. To read from a literal string, wrap it in a 'StringIO' object.\n",
      "  df = pd.read_html(html)\n",
      "C:\\Users\\irunn\\AppData\\Local\\Temp\\ipykernel_11784\\2729682859.py:10: FutureWarning: Passing literal html to 'read_html' is deprecated and will be removed in a future version. To read from a literal string, wrap it in a 'StringIO' object.\n",
      "  df = pd.read_html(html)\n"
     ]
    },
    {
     "name": "stdout",
     "output_type": "stream",
     "text": [
      "            날짜       종가     전일비       시가       고가       저가         거래량\n",
      "1   2024.04.09  83600.0   900.0  84500.0  84900.0  83100.0  18338249.0\n",
      "2   2024.04.08  84500.0     0.0  85200.0  86000.0  84500.0  18953232.0\n",
      "3   2024.04.05  84500.0   800.0  84500.0  85000.0  83800.0  18883752.0\n",
      "4   2024.04.04  85300.0  1200.0  85200.0  85500.0  84300.0  25248934.0\n",
      "5   2024.04.03  84100.0   900.0  84300.0  85000.0  83500.0  30493347.0\n",
      "9   2024.04.02  85000.0  3000.0  82900.0  85000.0  82900.0  37077944.0\n",
      "10  2024.04.01  82000.0   400.0  83200.0  83300.0  82000.0  20116513.0\n",
      "11  2024.03.29  82400.0  1600.0  81200.0  82500.0  80900.0  27126366.0\n",
      "12  2024.03.28  80800.0  1000.0  79400.0  81000.0  79200.0  25084812.0\n",
      "13  2024.03.27  79800.0   100.0  79200.0  80000.0  79200.0  17424595.0\n",
      "            날짜       종가     전일비       시가       고가       저가         거래량\n",
      "1   2024.04.09  83600.0   900.0  84500.0  84900.0  83100.0  18338249.0\n",
      "2   2024.04.08  84500.0     0.0  85200.0  86000.0  84500.0  18953232.0\n",
      "3   2024.04.05  84500.0   800.0  84500.0  85000.0  83800.0  18883752.0\n",
      "4   2024.04.04  85300.0  1200.0  85200.0  85500.0  84300.0  25248934.0\n",
      "5   2024.04.03  84100.0   900.0  84300.0  85000.0  83500.0  30493347.0\n",
      "9   2024.04.02  85000.0  3000.0  82900.0  85000.0  82900.0  37077944.0\n",
      "10  2024.04.01  82000.0   400.0  83200.0  83300.0  82000.0  20116513.0\n",
      "11  2024.03.29  82400.0  1600.0  81200.0  82500.0  80900.0  27126366.0\n",
      "12  2024.03.28  80800.0  1000.0  79400.0  81000.0  79200.0  25084812.0\n",
      "13  2024.03.27  79800.0   100.0  79200.0  80000.0  79200.0  17424595.0\n"
     ]
    },
    {
     "name": "stderr",
     "output_type": "stream",
     "text": [
      "C:\\Users\\irunn\\AppData\\Local\\Temp\\ipykernel_11784\\2729682859.py:10: FutureWarning: Passing literal html to 'read_html' is deprecated and will be removed in a future version. To read from a literal string, wrap it in a 'StringIO' object.\n",
      "  df = pd.read_html(html)\n",
      "C:\\Users\\irunn\\AppData\\Local\\Temp\\ipykernel_11784\\2729682859.py:10: FutureWarning: Passing literal html to 'read_html' is deprecated and will be removed in a future version. To read from a literal string, wrap it in a 'StringIO' object.\n",
      "  df = pd.read_html(html)\n"
     ]
    },
    {
     "name": "stdout",
     "output_type": "stream",
     "text": [
      "            날짜       종가     전일비       시가       고가       저가         거래량\n",
      "1   2024.04.09  83600.0   900.0  84500.0  84900.0  83100.0  18338249.0\n",
      "2   2024.04.08  84500.0     0.0  85200.0  86000.0  84500.0  18953232.0\n",
      "3   2024.04.05  84500.0   800.0  84500.0  85000.0  83800.0  18883752.0\n",
      "4   2024.04.04  85300.0  1200.0  85200.0  85500.0  84300.0  25248934.0\n",
      "5   2024.04.03  84100.0   900.0  84300.0  85000.0  83500.0  30493347.0\n",
      "9   2024.04.02  85000.0  3000.0  82900.0  85000.0  82900.0  37077944.0\n",
      "10  2024.04.01  82000.0   400.0  83200.0  83300.0  82000.0  20116513.0\n",
      "11  2024.03.29  82400.0  1600.0  81200.0  82500.0  80900.0  27126366.0\n",
      "12  2024.03.28  80800.0  1000.0  79400.0  81000.0  79200.0  25084812.0\n",
      "13  2024.03.27  79800.0   100.0  79200.0  80000.0  79200.0  17424595.0\n",
      "            날짜       종가     전일비       시가       고가       저가         거래량\n",
      "1   2024.04.09  83600.0   900.0  84500.0  84900.0  83100.0  18338249.0\n",
      "2   2024.04.08  84500.0     0.0  85200.0  86000.0  84500.0  18953232.0\n",
      "3   2024.04.05  84500.0   800.0  84500.0  85000.0  83800.0  18883752.0\n",
      "4   2024.04.04  85300.0  1200.0  85200.0  85500.0  84300.0  25248934.0\n",
      "5   2024.04.03  84100.0   900.0  84300.0  85000.0  83500.0  30493347.0\n",
      "9   2024.04.02  85000.0  3000.0  82900.0  85000.0  82900.0  37077944.0\n",
      "10  2024.04.01  82000.0   400.0  83200.0  83300.0  82000.0  20116513.0\n",
      "11  2024.03.29  82400.0  1600.0  81200.0  82500.0  80900.0  27126366.0\n",
      "12  2024.03.28  80800.0  1000.0  79400.0  81000.0  79200.0  25084812.0\n",
      "13  2024.03.27  79800.0   100.0  79200.0  80000.0  79200.0  17424595.0\n",
      "            날짜       종가     전일비       시가       고가       저가         거래량\n",
      "1   2024.04.09  83600.0   900.0  84500.0  84900.0  83100.0  18338249.0\n",
      "2   2024.04.08  84500.0     0.0  85200.0  86000.0  84500.0  18953232.0\n",
      "3   2024.04.05  84500.0   800.0  84500.0  85000.0  83800.0  18883752.0\n",
      "4   2024.04.04  85300.0  1200.0  85200.0  85500.0  84300.0  25248934.0\n",
      "5   2024.04.03  84100.0   900.0  84300.0  85000.0  83500.0  30493347.0\n",
      "9   2024.04.02  85000.0  3000.0  82900.0  85000.0  82900.0  37077944.0\n",
      "10  2024.04.01  82000.0   400.0  83200.0  83300.0  82000.0  20116513.0\n",
      "11  2024.03.29  82400.0  1600.0  81200.0  82500.0  80900.0  27126366.0\n",
      "12  2024.03.28  80800.0  1000.0  79400.0  81000.0  79200.0  25084812.0\n",
      "13  2024.03.27  79800.0   100.0  79200.0  80000.0  79200.0  17424595.0\n"
     ]
    },
    {
     "name": "stderr",
     "output_type": "stream",
     "text": [
      "C:\\Users\\irunn\\AppData\\Local\\Temp\\ipykernel_11784\\2729682859.py:10: FutureWarning: Passing literal html to 'read_html' is deprecated and will be removed in a future version. To read from a literal string, wrap it in a 'StringIO' object.\n",
      "  df = pd.read_html(html)\n",
      "C:\\Users\\irunn\\AppData\\Local\\Temp\\ipykernel_11784\\2729682859.py:10: FutureWarning: Passing literal html to 'read_html' is deprecated and will be removed in a future version. To read from a literal string, wrap it in a 'StringIO' object.\n",
      "  df = pd.read_html(html)\n"
     ]
    },
    {
     "name": "stdout",
     "output_type": "stream",
     "text": [
      "            날짜       종가     전일비       시가       고가       저가         거래량\n",
      "1   2024.04.09  83600.0   900.0  84500.0  84900.0  83100.0  18338249.0\n",
      "2   2024.04.08  84500.0     0.0  85200.0  86000.0  84500.0  18953232.0\n",
      "3   2024.04.05  84500.0   800.0  84500.0  85000.0  83800.0  18883752.0\n",
      "4   2024.04.04  85300.0  1200.0  85200.0  85500.0  84300.0  25248934.0\n",
      "5   2024.04.03  84100.0   900.0  84300.0  85000.0  83500.0  30493347.0\n",
      "9   2024.04.02  85000.0  3000.0  82900.0  85000.0  82900.0  37077944.0\n",
      "10  2024.04.01  82000.0   400.0  83200.0  83300.0  82000.0  20116513.0\n",
      "11  2024.03.29  82400.0  1600.0  81200.0  82500.0  80900.0  27126366.0\n",
      "12  2024.03.28  80800.0  1000.0  79400.0  81000.0  79200.0  25084812.0\n",
      "13  2024.03.27  79800.0   100.0  79200.0  80000.0  79200.0  17424595.0\n",
      "            날짜       종가     전일비       시가       고가       저가         거래량\n",
      "1   2024.04.09  83600.0   900.0  84500.0  84900.0  83100.0  18338249.0\n",
      "2   2024.04.08  84500.0     0.0  85200.0  86000.0  84500.0  18953232.0\n",
      "3   2024.04.05  84500.0   800.0  84500.0  85000.0  83800.0  18883752.0\n",
      "4   2024.04.04  85300.0  1200.0  85200.0  85500.0  84300.0  25248934.0\n",
      "5   2024.04.03  84100.0   900.0  84300.0  85000.0  83500.0  30493347.0\n",
      "9   2024.04.02  85000.0  3000.0  82900.0  85000.0  82900.0  37077944.0\n",
      "10  2024.04.01  82000.0   400.0  83200.0  83300.0  82000.0  20116513.0\n",
      "11  2024.03.29  82400.0  1600.0  81200.0  82500.0  80900.0  27126366.0\n",
      "12  2024.03.28  80800.0  1000.0  79400.0  81000.0  79200.0  25084812.0\n",
      "13  2024.03.27  79800.0   100.0  79200.0  80000.0  79200.0  17424595.0\n",
      "            날짜       종가     전일비       시가       고가       저가         거래량\n",
      "1   2024.04.09  83600.0   900.0  84500.0  84900.0  83100.0  18338645.0\n",
      "2   2024.04.08  84500.0     0.0  85200.0  86000.0  84500.0  18953232.0\n",
      "3   2024.04.05  84500.0   800.0  84500.0  85000.0  83800.0  18883752.0\n",
      "4   2024.04.04  85300.0  1200.0  85200.0  85500.0  84300.0  25248934.0\n",
      "5   2024.04.03  84100.0   900.0  84300.0  85000.0  83500.0  30493347.0\n",
      "9   2024.04.02  85000.0  3000.0  82900.0  85000.0  82900.0  37077944.0\n",
      "10  2024.04.01  82000.0   400.0  83200.0  83300.0  82000.0  20116513.0\n",
      "11  2024.03.29  82400.0  1600.0  81200.0  82500.0  80900.0  27126366.0\n",
      "12  2024.03.28  80800.0  1000.0  79400.0  81000.0  79200.0  25084812.0\n",
      "13  2024.03.27  79800.0   100.0  79200.0  80000.0  79200.0  17424595.0\n"
     ]
    },
    {
     "name": "stderr",
     "output_type": "stream",
     "text": [
      "C:\\Users\\irunn\\AppData\\Local\\Temp\\ipykernel_11784\\2729682859.py:10: FutureWarning: Passing literal html to 'read_html' is deprecated and will be removed in a future version. To read from a literal string, wrap it in a 'StringIO' object.\n",
      "  df = pd.read_html(html)\n",
      "C:\\Users\\irunn\\AppData\\Local\\Temp\\ipykernel_11784\\2729682859.py:10: FutureWarning: Passing literal html to 'read_html' is deprecated and will be removed in a future version. To read from a literal string, wrap it in a 'StringIO' object.\n",
      "  df = pd.read_html(html)\n",
      "C:\\Users\\irunn\\AppData\\Local\\Temp\\ipykernel_11784\\2729682859.py:10: FutureWarning: Passing literal html to 'read_html' is deprecated and will be removed in a future version. To read from a literal string, wrap it in a 'StringIO' object.\n",
      "  df = pd.read_html(html)\n",
      "C:\\Users\\irunn\\AppData\\Local\\Temp\\ipykernel_11784\\2729682859.py:10: FutureWarning: Passing literal html to 'read_html' is deprecated and will be removed in a future version. To read from a literal string, wrap it in a 'StringIO' object.\n",
      "  df = pd.read_html(html)\n",
      "C:\\Users\\irunn\\AppData\\Local\\Temp\\ipykernel_11784\\2729682859.py:10: FutureWarning: Passing literal html to 'read_html' is deprecated and will be removed in a future version. To read from a literal string, wrap it in a 'StringIO' object.\n",
      "  df = pd.read_html(html)\n"
     ]
    },
    {
     "name": "stdout",
     "output_type": "stream",
     "text": [
      "            날짜       종가     전일비       시가       고가       저가         거래량\n",
      "1   2024.04.09  83600.0   900.0  84500.0  84900.0  83100.0  18338249.0\n",
      "2   2024.04.08  84500.0     0.0  85200.0  86000.0  84500.0  18953232.0\n",
      "3   2024.04.05  84500.0   800.0  84500.0  85000.0  83800.0  18883752.0\n",
      "4   2024.04.04  85300.0  1200.0  85200.0  85500.0  84300.0  25248934.0\n",
      "5   2024.04.03  84100.0   900.0  84300.0  85000.0  83500.0  30493347.0\n",
      "9   2024.04.02  85000.0  3000.0  82900.0  85000.0  82900.0  37077944.0\n",
      "10  2024.04.01  82000.0   400.0  83200.0  83300.0  82000.0  20116513.0\n",
      "11  2024.03.29  82400.0  1600.0  81200.0  82500.0  80900.0  27126366.0\n",
      "12  2024.03.28  80800.0  1000.0  79400.0  81000.0  79200.0  25084812.0\n",
      "13  2024.03.27  79800.0   100.0  79200.0  80000.0  79200.0  17424595.0\n",
      "            날짜       종가     전일비       시가       고가       저가         거래량\n",
      "1   2024.04.09  83600.0   900.0  84500.0  84900.0  83100.0  18338645.0\n",
      "2   2024.04.08  84500.0     0.0  85200.0  86000.0  84500.0  18953232.0\n",
      "3   2024.04.05  84500.0   800.0  84500.0  85000.0  83800.0  18883752.0\n",
      "4   2024.04.04  85300.0  1200.0  85200.0  85500.0  84300.0  25248934.0\n",
      "5   2024.04.03  84100.0   900.0  84300.0  85000.0  83500.0  30493347.0\n",
      "9   2024.04.02  85000.0  3000.0  82900.0  85000.0  82900.0  37077944.0\n",
      "10  2024.04.01  82000.0   400.0  83200.0  83300.0  82000.0  20116513.0\n",
      "11  2024.03.29  82400.0  1600.0  81200.0  82500.0  80900.0  27126366.0\n",
      "12  2024.03.28  80800.0  1000.0  79400.0  81000.0  79200.0  25084812.0\n",
      "13  2024.03.27  79800.0   100.0  79200.0  80000.0  79200.0  17424595.0\n",
      "            날짜       종가     전일비       시가       고가       저가         거래량\n",
      "1   2024.04.09  83600.0   900.0  84500.0  84900.0  83100.0  18338249.0\n",
      "2   2024.04.08  84500.0     0.0  85200.0  86000.0  84500.0  18953232.0\n",
      "3   2024.04.05  84500.0   800.0  84500.0  85000.0  83800.0  18883752.0\n",
      "4   2024.04.04  85300.0  1200.0  85200.0  85500.0  84300.0  25248934.0\n",
      "5   2024.04.03  84100.0   900.0  84300.0  85000.0  83500.0  30493347.0\n",
      "9   2024.04.02  85000.0  3000.0  82900.0  85000.0  82900.0  37077944.0\n",
      "10  2024.04.01  82000.0   400.0  83200.0  83300.0  82000.0  20116513.0\n",
      "11  2024.03.29  82400.0  1600.0  81200.0  82500.0  80900.0  27126366.0\n",
      "12  2024.03.28  80800.0  1000.0  79400.0  81000.0  79200.0  25084812.0\n",
      "13  2024.03.27  79800.0   100.0  79200.0  80000.0  79200.0  17424595.0\n"
     ]
    },
    {
     "name": "stderr",
     "output_type": "stream",
     "text": [
      "C:\\Users\\irunn\\AppData\\Local\\Temp\\ipykernel_11784\\2729682859.py:10: FutureWarning: Passing literal html to 'read_html' is deprecated and will be removed in a future version. To read from a literal string, wrap it in a 'StringIO' object.\n",
      "  df = pd.read_html(html)\n",
      "C:\\Users\\irunn\\AppData\\Local\\Temp\\ipykernel_11784\\2729682859.py:10: FutureWarning: Passing literal html to 'read_html' is deprecated and will be removed in a future version. To read from a literal string, wrap it in a 'StringIO' object.\n",
      "  df = pd.read_html(html)\n"
     ]
    },
    {
     "name": "stdout",
     "output_type": "stream",
     "text": [
      "            날짜       종가     전일비       시가       고가       저가         거래량\n",
      "1   2024.04.09  83600.0   900.0  84500.0  84900.0  83100.0  18338645.0\n",
      "2   2024.04.08  84500.0     0.0  85200.0  86000.0  84500.0  18953232.0\n",
      "3   2024.04.05  84500.0   800.0  84500.0  85000.0  83800.0  18883752.0\n",
      "4   2024.04.04  85300.0  1200.0  85200.0  85500.0  84300.0  25248934.0\n",
      "5   2024.04.03  84100.0   900.0  84300.0  85000.0  83500.0  30493347.0\n",
      "9   2024.04.02  85000.0  3000.0  82900.0  85000.0  82900.0  37077944.0\n",
      "10  2024.04.01  82000.0   400.0  83200.0  83300.0  82000.0  20116513.0\n",
      "11  2024.03.29  82400.0  1600.0  81200.0  82500.0  80900.0  27126366.0\n",
      "12  2024.03.28  80800.0  1000.0  79400.0  81000.0  79200.0  25084812.0\n",
      "13  2024.03.27  79800.0   100.0  79200.0  80000.0  79200.0  17424595.0\n",
      "            날짜       종가     전일비       시가       고가       저가         거래량\n",
      "1   2024.04.09  83600.0   900.0  84500.0  84900.0  83100.0  18338645.0\n",
      "2   2024.04.08  84500.0     0.0  85200.0  86000.0  84500.0  18953232.0\n",
      "3   2024.04.05  84500.0   800.0  84500.0  85000.0  83800.0  18883752.0\n",
      "4   2024.04.04  85300.0  1200.0  85200.0  85500.0  84300.0  25248934.0\n",
      "5   2024.04.03  84100.0   900.0  84300.0  85000.0  83500.0  30493347.0\n",
      "9   2024.04.02  85000.0  3000.0  82900.0  85000.0  82900.0  37077944.0\n",
      "10  2024.04.01  82000.0   400.0  83200.0  83300.0  82000.0  20116513.0\n",
      "11  2024.03.29  82400.0  1600.0  81200.0  82500.0  80900.0  27126366.0\n",
      "12  2024.03.28  80800.0  1000.0  79400.0  81000.0  79200.0  25084812.0\n",
      "13  2024.03.27  79800.0   100.0  79200.0  80000.0  79200.0  17424595.0\n"
     ]
    },
    {
     "name": "stderr",
     "output_type": "stream",
     "text": [
      "C:\\Users\\irunn\\AppData\\Local\\Temp\\ipykernel_11784\\2729682859.py:10: FutureWarning: Passing literal html to 'read_html' is deprecated and will be removed in a future version. To read from a literal string, wrap it in a 'StringIO' object.\n",
      "  df = pd.read_html(html)\n",
      "C:\\Users\\irunn\\AppData\\Local\\Temp\\ipykernel_11784\\2729682859.py:10: FutureWarning: Passing literal html to 'read_html' is deprecated and will be removed in a future version. To read from a literal string, wrap it in a 'StringIO' object.\n",
      "  df = pd.read_html(html)\n"
     ]
    },
    {
     "name": "stdout",
     "output_type": "stream",
     "text": [
      "            날짜       종가     전일비       시가       고가       저가         거래량\n",
      "1   2024.04.09  83600.0   900.0  84500.0  84900.0  83100.0  18338645.0\n",
      "2   2024.04.08  84500.0     0.0  85200.0  86000.0  84500.0  18953232.0\n",
      "3   2024.04.05  84500.0   800.0  84500.0  85000.0  83800.0  18883752.0\n",
      "4   2024.04.04  85300.0  1200.0  85200.0  85500.0  84300.0  25248934.0\n",
      "5   2024.04.03  84100.0   900.0  84300.0  85000.0  83500.0  30493347.0\n",
      "9   2024.04.02  85000.0  3000.0  82900.0  85000.0  82900.0  37077944.0\n",
      "10  2024.04.01  82000.0   400.0  83200.0  83300.0  82000.0  20116513.0\n",
      "11  2024.03.29  82400.0  1600.0  81200.0  82500.0  80900.0  27126366.0\n",
      "12  2024.03.28  80800.0  1000.0  79400.0  81000.0  79200.0  25084812.0\n",
      "13  2024.03.27  79800.0   100.0  79200.0  80000.0  79200.0  17424595.0\n",
      "            날짜       종가     전일비       시가       고가       저가         거래량\n",
      "1   2024.04.09  83600.0   900.0  84500.0  84900.0  83100.0  18338249.0\n",
      "2   2024.04.08  84500.0     0.0  85200.0  86000.0  84500.0  18953232.0\n",
      "3   2024.04.05  84500.0   800.0  84500.0  85000.0  83800.0  18883752.0\n",
      "4   2024.04.04  85300.0  1200.0  85200.0  85500.0  84300.0  25248934.0\n",
      "5   2024.04.03  84100.0   900.0  84300.0  85000.0  83500.0  30493347.0\n",
      "9   2024.04.02  85000.0  3000.0  82900.0  85000.0  82900.0  37077944.0\n",
      "10  2024.04.01  82000.0   400.0  83200.0  83300.0  82000.0  20116513.0\n",
      "11  2024.03.29  82400.0  1600.0  81200.0  82500.0  80900.0  27126366.0\n",
      "12  2024.03.28  80800.0  1000.0  79400.0  81000.0  79200.0  25084812.0\n",
      "13  2024.03.27  79800.0   100.0  79200.0  80000.0  79200.0  17424595.0\n"
     ]
    },
    {
     "name": "stderr",
     "output_type": "stream",
     "text": [
      "C:\\Users\\irunn\\AppData\\Local\\Temp\\ipykernel_11784\\2729682859.py:10: FutureWarning: Passing literal html to 'read_html' is deprecated and will be removed in a future version. To read from a literal string, wrap it in a 'StringIO' object.\n",
      "  df = pd.read_html(html)\n",
      "C:\\Users\\irunn\\AppData\\Local\\Temp\\ipykernel_11784\\2729682859.py:10: FutureWarning: Passing literal html to 'read_html' is deprecated and will be removed in a future version. To read from a literal string, wrap it in a 'StringIO' object.\n",
      "  df = pd.read_html(html)\n"
     ]
    },
    {
     "name": "stdout",
     "output_type": "stream",
     "text": [
      "            날짜       종가     전일비       시가       고가       저가         거래량\n",
      "1   2024.04.09  83600.0   900.0  84500.0  84900.0  83100.0  18338645.0\n",
      "2   2024.04.08  84500.0     0.0  85200.0  86000.0  84500.0  18953232.0\n",
      "3   2024.04.05  84500.0   800.0  84500.0  85000.0  83800.0  18883752.0\n",
      "4   2024.04.04  85300.0  1200.0  85200.0  85500.0  84300.0  25248934.0\n",
      "5   2024.04.03  84100.0   900.0  84300.0  85000.0  83500.0  30493347.0\n",
      "9   2024.04.02  85000.0  3000.0  82900.0  85000.0  82900.0  37077944.0\n",
      "10  2024.04.01  82000.0   400.0  83200.0  83300.0  82000.0  20116513.0\n",
      "11  2024.03.29  82400.0  1600.0  81200.0  82500.0  80900.0  27126366.0\n",
      "12  2024.03.28  80800.0  1000.0  79400.0  81000.0  79200.0  25084812.0\n",
      "13  2024.03.27  79800.0   100.0  79200.0  80000.0  79200.0  17424595.0\n",
      "            날짜       종가     전일비       시가       고가       저가         거래량\n",
      "1   2024.04.09  83600.0   900.0  84500.0  84900.0  83100.0  18338645.0\n",
      "2   2024.04.08  84500.0     0.0  85200.0  86000.0  84500.0  18953232.0\n",
      "3   2024.04.05  84500.0   800.0  84500.0  85000.0  83800.0  18883752.0\n",
      "4   2024.04.04  85300.0  1200.0  85200.0  85500.0  84300.0  25248934.0\n",
      "5   2024.04.03  84100.0   900.0  84300.0  85000.0  83500.0  30493347.0\n",
      "9   2024.04.02  85000.0  3000.0  82900.0  85000.0  82900.0  37077944.0\n",
      "10  2024.04.01  82000.0   400.0  83200.0  83300.0  82000.0  20116513.0\n",
      "11  2024.03.29  82400.0  1600.0  81200.0  82500.0  80900.0  27126366.0\n",
      "12  2024.03.28  80800.0  1000.0  79400.0  81000.0  79200.0  25084812.0\n",
      "13  2024.03.27  79800.0   100.0  79200.0  80000.0  79200.0  17424595.0\n"
     ]
    },
    {
     "name": "stderr",
     "output_type": "stream",
     "text": [
      "C:\\Users\\irunn\\AppData\\Local\\Temp\\ipykernel_11784\\2729682859.py:10: FutureWarning: Passing literal html to 'read_html' is deprecated and will be removed in a future version. To read from a literal string, wrap it in a 'StringIO' object.\n",
      "  df = pd.read_html(html)\n",
      "C:\\Users\\irunn\\AppData\\Local\\Temp\\ipykernel_11784\\2729682859.py:10: FutureWarning: Passing literal html to 'read_html' is deprecated and will be removed in a future version. To read from a literal string, wrap it in a 'StringIO' object.\n",
      "  df = pd.read_html(html)\n"
     ]
    },
    {
     "name": "stdout",
     "output_type": "stream",
     "text": [
      "            날짜       종가     전일비       시가       고가       저가         거래량\n",
      "1   2024.04.09  83600.0   900.0  84500.0  84900.0  83100.0  18338645.0\n",
      "2   2024.04.08  84500.0     0.0  85200.0  86000.0  84500.0  18953232.0\n",
      "3   2024.04.05  84500.0   800.0  84500.0  85000.0  83800.0  18883752.0\n",
      "4   2024.04.04  85300.0  1200.0  85200.0  85500.0  84300.0  25248934.0\n",
      "5   2024.04.03  84100.0   900.0  84300.0  85000.0  83500.0  30493347.0\n",
      "9   2024.04.02  85000.0  3000.0  82900.0  85000.0  82900.0  37077944.0\n",
      "10  2024.04.01  82000.0   400.0  83200.0  83300.0  82000.0  20116513.0\n",
      "11  2024.03.29  82400.0  1600.0  81200.0  82500.0  80900.0  27126366.0\n",
      "12  2024.03.28  80800.0  1000.0  79400.0  81000.0  79200.0  25084812.0\n",
      "13  2024.03.27  79800.0   100.0  79200.0  80000.0  79200.0  17424595.0\n",
      "            날짜       종가     전일비       시가       고가       저가         거래량\n",
      "1   2024.04.09  83600.0   900.0  84500.0  84900.0  83100.0  18338249.0\n",
      "2   2024.04.08  84500.0     0.0  85200.0  86000.0  84500.0  18953232.0\n",
      "3   2024.04.05  84500.0   800.0  84500.0  85000.0  83800.0  18883752.0\n",
      "4   2024.04.04  85300.0  1200.0  85200.0  85500.0  84300.0  25248934.0\n",
      "5   2024.04.03  84100.0   900.0  84300.0  85000.0  83500.0  30493347.0\n",
      "9   2024.04.02  85000.0  3000.0  82900.0  85000.0  82900.0  37077944.0\n",
      "10  2024.04.01  82000.0   400.0  83200.0  83300.0  82000.0  20116513.0\n",
      "11  2024.03.29  82400.0  1600.0  81200.0  82500.0  80900.0  27126366.0\n",
      "12  2024.03.28  80800.0  1000.0  79400.0  81000.0  79200.0  25084812.0\n",
      "13  2024.03.27  79800.0   100.0  79200.0  80000.0  79200.0  17424595.0\n"
     ]
    },
    {
     "name": "stderr",
     "output_type": "stream",
     "text": [
      "C:\\Users\\irunn\\AppData\\Local\\Temp\\ipykernel_11784\\2729682859.py:10: FutureWarning: Passing literal html to 'read_html' is deprecated and will be removed in a future version. To read from a literal string, wrap it in a 'StringIO' object.\n",
      "  df = pd.read_html(html)\n",
      "C:\\Users\\irunn\\AppData\\Local\\Temp\\ipykernel_11784\\2729682859.py:10: FutureWarning: Passing literal html to 'read_html' is deprecated and will be removed in a future version. To read from a literal string, wrap it in a 'StringIO' object.\n",
      "  df = pd.read_html(html)\n",
      "C:\\Users\\irunn\\AppData\\Local\\Temp\\ipykernel_11784\\2729682859.py:10: FutureWarning: Passing literal html to 'read_html' is deprecated and will be removed in a future version. To read from a literal string, wrap it in a 'StringIO' object.\n",
      "  df = pd.read_html(html)\n"
     ]
    },
    {
     "name": "stdout",
     "output_type": "stream",
     "text": [
      "            날짜       종가     전일비       시가       고가       저가         거래량\n",
      "1   2024.04.09  83600.0   900.0  84500.0  84900.0  83100.0  18338249.0\n",
      "2   2024.04.08  84500.0     0.0  85200.0  86000.0  84500.0  18953232.0\n",
      "3   2024.04.05  84500.0   800.0  84500.0  85000.0  83800.0  18883752.0\n",
      "4   2024.04.04  85300.0  1200.0  85200.0  85500.0  84300.0  25248934.0\n",
      "5   2024.04.03  84100.0   900.0  84300.0  85000.0  83500.0  30493347.0\n",
      "9   2024.04.02  85000.0  3000.0  82900.0  85000.0  82900.0  37077944.0\n",
      "10  2024.04.01  82000.0   400.0  83200.0  83300.0  82000.0  20116513.0\n",
      "11  2024.03.29  82400.0  1600.0  81200.0  82500.0  80900.0  27126366.0\n",
      "12  2024.03.28  80800.0  1000.0  79400.0  81000.0  79200.0  25084812.0\n",
      "13  2024.03.27  79800.0   100.0  79200.0  80000.0  79200.0  17424595.0\n",
      "            날짜       종가     전일비       시가       고가       저가         거래량\n",
      "1   2024.04.09  83600.0   900.0  84500.0  84900.0  83100.0  18338249.0\n",
      "2   2024.04.08  84500.0     0.0  85200.0  86000.0  84500.0  18953232.0\n",
      "3   2024.04.05  84500.0   800.0  84500.0  85000.0  83800.0  18883752.0\n",
      "4   2024.04.04  85300.0  1200.0  85200.0  85500.0  84300.0  25248934.0\n",
      "5   2024.04.03  84100.0   900.0  84300.0  85000.0  83500.0  30493347.0\n",
      "9   2024.04.02  85000.0  3000.0  82900.0  85000.0  82900.0  37077944.0\n",
      "10  2024.04.01  82000.0   400.0  83200.0  83300.0  82000.0  20116513.0\n",
      "11  2024.03.29  82400.0  1600.0  81200.0  82500.0  80900.0  27126366.0\n",
      "12  2024.03.28  80800.0  1000.0  79400.0  81000.0  79200.0  25084812.0\n",
      "13  2024.03.27  79800.0   100.0  79200.0  80000.0  79200.0  17424595.0\n",
      "            날짜       종가     전일비       시가       고가       저가         거래량\n",
      "1   2024.04.09  83600.0   900.0  84500.0  84900.0  83100.0  18338249.0\n",
      "2   2024.04.08  84500.0     0.0  85200.0  86000.0  84500.0  18953232.0\n",
      "3   2024.04.05  84500.0   800.0  84500.0  85000.0  83800.0  18883752.0\n",
      "4   2024.04.04  85300.0  1200.0  85200.0  85500.0  84300.0  25248934.0\n",
      "5   2024.04.03  84100.0   900.0  84300.0  85000.0  83500.0  30493347.0\n",
      "9   2024.04.02  85000.0  3000.0  82900.0  85000.0  82900.0  37077944.0\n",
      "10  2024.04.01  82000.0   400.0  83200.0  83300.0  82000.0  20116513.0\n",
      "11  2024.03.29  82400.0  1600.0  81200.0  82500.0  80900.0  27126366.0\n",
      "12  2024.03.28  80800.0  1000.0  79400.0  81000.0  79200.0  25084812.0\n",
      "13  2024.03.27  79800.0   100.0  79200.0  80000.0  79200.0  17424595.0\n"
     ]
    },
    {
     "name": "stderr",
     "output_type": "stream",
     "text": [
      "C:\\Users\\irunn\\AppData\\Local\\Temp\\ipykernel_11784\\2729682859.py:10: FutureWarning: Passing literal html to 'read_html' is deprecated and will be removed in a future version. To read from a literal string, wrap it in a 'StringIO' object.\n",
      "  df = pd.read_html(html)\n",
      "C:\\Users\\irunn\\AppData\\Local\\Temp\\ipykernel_11784\\2729682859.py:10: FutureWarning: Passing literal html to 'read_html' is deprecated and will be removed in a future version. To read from a literal string, wrap it in a 'StringIO' object.\n",
      "  df = pd.read_html(html)\n",
      "C:\\Users\\irunn\\AppData\\Local\\Temp\\ipykernel_11784\\2729682859.py:10: FutureWarning: Passing literal html to 'read_html' is deprecated and will be removed in a future version. To read from a literal string, wrap it in a 'StringIO' object.\n",
      "  df = pd.read_html(html)\n"
     ]
    },
    {
     "name": "stdout",
     "output_type": "stream",
     "text": [
      "            날짜       종가     전일비       시가       고가       저가         거래량\n",
      "1   2024.04.09  83600.0   900.0  84500.0  84900.0  83100.0  18338249.0\n",
      "2   2024.04.08  84500.0     0.0  85200.0  86000.0  84500.0  18953232.0\n",
      "3   2024.04.05  84500.0   800.0  84500.0  85000.0  83800.0  18883752.0\n",
      "4   2024.04.04  85300.0  1200.0  85200.0  85500.0  84300.0  25248934.0\n",
      "5   2024.04.03  84100.0   900.0  84300.0  85000.0  83500.0  30493347.0\n",
      "9   2024.04.02  85000.0  3000.0  82900.0  85000.0  82900.0  37077944.0\n",
      "10  2024.04.01  82000.0   400.0  83200.0  83300.0  82000.0  20116513.0\n",
      "11  2024.03.29  82400.0  1600.0  81200.0  82500.0  80900.0  27126366.0\n",
      "12  2024.03.28  80800.0  1000.0  79400.0  81000.0  79200.0  25084812.0\n",
      "13  2024.03.27  79800.0   100.0  79200.0  80000.0  79200.0  17424595.0\n",
      "            날짜       종가     전일비       시가       고가       저가         거래량\n",
      "1   2024.04.09  83600.0   900.0  84500.0  84900.0  83100.0  18338645.0\n",
      "2   2024.04.08  84500.0     0.0  85200.0  86000.0  84500.0  18953232.0\n",
      "3   2024.04.05  84500.0   800.0  84500.0  85000.0  83800.0  18883752.0\n",
      "4   2024.04.04  85300.0  1200.0  85200.0  85500.0  84300.0  25248934.0\n",
      "5   2024.04.03  84100.0   900.0  84300.0  85000.0  83500.0  30493347.0\n",
      "9   2024.04.02  85000.0  3000.0  82900.0  85000.0  82900.0  37077944.0\n",
      "10  2024.04.01  82000.0   400.0  83200.0  83300.0  82000.0  20116513.0\n",
      "11  2024.03.29  82400.0  1600.0  81200.0  82500.0  80900.0  27126366.0\n",
      "12  2024.03.28  80800.0  1000.0  79400.0  81000.0  79200.0  25084812.0\n",
      "13  2024.03.27  79800.0   100.0  79200.0  80000.0  79200.0  17424595.0\n",
      "            날짜       종가     전일비       시가       고가       저가         거래량\n",
      "1   2024.04.09  83600.0   900.0  84500.0  84900.0  83100.0  18338645.0\n",
      "2   2024.04.08  84500.0     0.0  85200.0  86000.0  84500.0  18953232.0\n",
      "3   2024.04.05  84500.0   800.0  84500.0  85000.0  83800.0  18883752.0\n",
      "4   2024.04.04  85300.0  1200.0  85200.0  85500.0  84300.0  25248934.0\n",
      "5   2024.04.03  84100.0   900.0  84300.0  85000.0  83500.0  30493347.0\n",
      "9   2024.04.02  85000.0  3000.0  82900.0  85000.0  82900.0  37077944.0\n",
      "10  2024.04.01  82000.0   400.0  83200.0  83300.0  82000.0  20116513.0\n",
      "11  2024.03.29  82400.0  1600.0  81200.0  82500.0  80900.0  27126366.0\n",
      "12  2024.03.28  80800.0  1000.0  79400.0  81000.0  79200.0  25084812.0\n",
      "13  2024.03.27  79800.0   100.0  79200.0  80000.0  79200.0  17424595.0\n"
     ]
    },
    {
     "name": "stderr",
     "output_type": "stream",
     "text": [
      "C:\\Users\\irunn\\AppData\\Local\\Temp\\ipykernel_11784\\2729682859.py:10: FutureWarning: Passing literal html to 'read_html' is deprecated and will be removed in a future version. To read from a literal string, wrap it in a 'StringIO' object.\n",
      "  df = pd.read_html(html)\n",
      "C:\\Users\\irunn\\AppData\\Local\\Temp\\ipykernel_11784\\2729682859.py:10: FutureWarning: Passing literal html to 'read_html' is deprecated and will be removed in a future version. To read from a literal string, wrap it in a 'StringIO' object.\n",
      "  df = pd.read_html(html)\n"
     ]
    },
    {
     "name": "stdout",
     "output_type": "stream",
     "text": [
      "            날짜       종가     전일비       시가       고가       저가         거래량\n",
      "1   2024.04.09  83600.0   900.0  84500.0  84900.0  83100.0  18338645.0\n",
      "2   2024.04.08  84500.0     0.0  85200.0  86000.0  84500.0  18953232.0\n",
      "3   2024.04.05  84500.0   800.0  84500.0  85000.0  83800.0  18883752.0\n",
      "4   2024.04.04  85300.0  1200.0  85200.0  85500.0  84300.0  25248934.0\n",
      "5   2024.04.03  84100.0   900.0  84300.0  85000.0  83500.0  30493347.0\n",
      "9   2024.04.02  85000.0  3000.0  82900.0  85000.0  82900.0  37077944.0\n",
      "10  2024.04.01  82000.0   400.0  83200.0  83300.0  82000.0  20116513.0\n",
      "11  2024.03.29  82400.0  1600.0  81200.0  82500.0  80900.0  27126366.0\n",
      "12  2024.03.28  80800.0  1000.0  79400.0  81000.0  79200.0  25084812.0\n",
      "13  2024.03.27  79800.0   100.0  79200.0  80000.0  79200.0  17424595.0\n",
      "            날짜       종가     전일비       시가       고가       저가         거래량\n",
      "1   2024.04.09  83600.0   900.0  84500.0  84900.0  83100.0  18338645.0\n",
      "2   2024.04.08  84500.0     0.0  85200.0  86000.0  84500.0  18953232.0\n",
      "3   2024.04.05  84500.0   800.0  84500.0  85000.0  83800.0  18883752.0\n",
      "4   2024.04.04  85300.0  1200.0  85200.0  85500.0  84300.0  25248934.0\n",
      "5   2024.04.03  84100.0   900.0  84300.0  85000.0  83500.0  30493347.0\n",
      "9   2024.04.02  85000.0  3000.0  82900.0  85000.0  82900.0  37077944.0\n",
      "10  2024.04.01  82000.0   400.0  83200.0  83300.0  82000.0  20116513.0\n",
      "11  2024.03.29  82400.0  1600.0  81200.0  82500.0  80900.0  27126366.0\n",
      "12  2024.03.28  80800.0  1000.0  79400.0  81000.0  79200.0  25084812.0\n",
      "13  2024.03.27  79800.0   100.0  79200.0  80000.0  79200.0  17424595.0\n"
     ]
    },
    {
     "name": "stderr",
     "output_type": "stream",
     "text": [
      "C:\\Users\\irunn\\AppData\\Local\\Temp\\ipykernel_11784\\2729682859.py:10: FutureWarning: Passing literal html to 'read_html' is deprecated and will be removed in a future version. To read from a literal string, wrap it in a 'StringIO' object.\n",
      "  df = pd.read_html(html)\n",
      "C:\\Users\\irunn\\AppData\\Local\\Temp\\ipykernel_11784\\2729682859.py:10: FutureWarning: Passing literal html to 'read_html' is deprecated and will be removed in a future version. To read from a literal string, wrap it in a 'StringIO' object.\n",
      "  df = pd.read_html(html)\n",
      "C:\\Users\\irunn\\AppData\\Local\\Temp\\ipykernel_11784\\2729682859.py:10: FutureWarning: Passing literal html to 'read_html' is deprecated and will be removed in a future version. To read from a literal string, wrap it in a 'StringIO' object.\n",
      "  df = pd.read_html(html)\n"
     ]
    },
    {
     "name": "stdout",
     "output_type": "stream",
     "text": [
      "            날짜       종가     전일비       시가       고가       저가         거래량\n",
      "1   2024.04.09  83600.0   900.0  84500.0  84900.0  83100.0  18338645.0\n",
      "2   2024.04.08  84500.0     0.0  85200.0  86000.0  84500.0  18953232.0\n",
      "3   2024.04.05  84500.0   800.0  84500.0  85000.0  83800.0  18883752.0\n",
      "4   2024.04.04  85300.0  1200.0  85200.0  85500.0  84300.0  25248934.0\n",
      "5   2024.04.03  84100.0   900.0  84300.0  85000.0  83500.0  30493347.0\n",
      "9   2024.04.02  85000.0  3000.0  82900.0  85000.0  82900.0  37077944.0\n",
      "10  2024.04.01  82000.0   400.0  83200.0  83300.0  82000.0  20116513.0\n",
      "11  2024.03.29  82400.0  1600.0  81200.0  82500.0  80900.0  27126366.0\n",
      "12  2024.03.28  80800.0  1000.0  79400.0  81000.0  79200.0  25084812.0\n",
      "13  2024.03.27  79800.0   100.0  79200.0  80000.0  79200.0  17424595.0\n",
      "            날짜       종가     전일비       시가       고가       저가         거래량\n",
      "1   2024.04.09  83600.0   900.0  84500.0  84900.0  83100.0  18338249.0\n",
      "2   2024.04.08  84500.0     0.0  85200.0  86000.0  84500.0  18953232.0\n",
      "3   2024.04.05  84500.0   800.0  84500.0  85000.0  83800.0  18883752.0\n",
      "4   2024.04.04  85300.0  1200.0  85200.0  85500.0  84300.0  25248934.0\n",
      "5   2024.04.03  84100.0   900.0  84300.0  85000.0  83500.0  30493347.0\n",
      "9   2024.04.02  85000.0  3000.0  82900.0  85000.0  82900.0  37077944.0\n",
      "10  2024.04.01  82000.0   400.0  83200.0  83300.0  82000.0  20116513.0\n",
      "11  2024.03.29  82400.0  1600.0  81200.0  82500.0  80900.0  27126366.0\n",
      "12  2024.03.28  80800.0  1000.0  79400.0  81000.0  79200.0  25084812.0\n",
      "13  2024.03.27  79800.0   100.0  79200.0  80000.0  79200.0  17424595.0\n",
      "            날짜       종가     전일비       시가       고가       저가         거래량\n",
      "1   2024.04.09  83600.0   900.0  84500.0  84900.0  83100.0  18338645.0\n",
      "2   2024.04.08  84500.0     0.0  85200.0  86000.0  84500.0  18953232.0\n",
      "3   2024.04.05  84500.0   800.0  84500.0  85000.0  83800.0  18883752.0\n",
      "4   2024.04.04  85300.0  1200.0  85200.0  85500.0  84300.0  25248934.0\n",
      "5   2024.04.03  84100.0   900.0  84300.0  85000.0  83500.0  30493347.0\n",
      "9   2024.04.02  85000.0  3000.0  82900.0  85000.0  82900.0  37077944.0\n",
      "10  2024.04.01  82000.0   400.0  83200.0  83300.0  82000.0  20116513.0\n",
      "11  2024.03.29  82400.0  1600.0  81200.0  82500.0  80900.0  27126366.0\n",
      "12  2024.03.28  80800.0  1000.0  79400.0  81000.0  79200.0  25084812.0\n",
      "13  2024.03.27  79800.0   100.0  79200.0  80000.0  79200.0  17424595.0\n"
     ]
    },
    {
     "name": "stderr",
     "output_type": "stream",
     "text": [
      "C:\\Users\\irunn\\AppData\\Local\\Temp\\ipykernel_11784\\2729682859.py:10: FutureWarning: Passing literal html to 'read_html' is deprecated and will be removed in a future version. To read from a literal string, wrap it in a 'StringIO' object.\n",
      "  df = pd.read_html(html)\n",
      "C:\\Users\\irunn\\AppData\\Local\\Temp\\ipykernel_11784\\2729682859.py:10: FutureWarning: Passing literal html to 'read_html' is deprecated and will be removed in a future version. To read from a literal string, wrap it in a 'StringIO' object.\n",
      "  df = pd.read_html(html)\n"
     ]
    },
    {
     "name": "stdout",
     "output_type": "stream",
     "text": [
      "            날짜       종가     전일비       시가       고가       저가         거래량\n",
      "1   2024.04.09  83600.0   900.0  84500.0  84900.0  83100.0  18338249.0\n",
      "2   2024.04.08  84500.0     0.0  85200.0  86000.0  84500.0  18953232.0\n",
      "3   2024.04.05  84500.0   800.0  84500.0  85000.0  83800.0  18883752.0\n",
      "4   2024.04.04  85300.0  1200.0  85200.0  85500.0  84300.0  25248934.0\n",
      "5   2024.04.03  84100.0   900.0  84300.0  85000.0  83500.0  30493347.0\n",
      "9   2024.04.02  85000.0  3000.0  82900.0  85000.0  82900.0  37077944.0\n",
      "10  2024.04.01  82000.0   400.0  83200.0  83300.0  82000.0  20116513.0\n",
      "11  2024.03.29  82400.0  1600.0  81200.0  82500.0  80900.0  27126366.0\n",
      "12  2024.03.28  80800.0  1000.0  79400.0  81000.0  79200.0  25084812.0\n",
      "13  2024.03.27  79800.0   100.0  79200.0  80000.0  79200.0  17424595.0\n",
      "            날짜       종가     전일비       시가       고가       저가         거래량\n",
      "1   2024.04.09  83600.0   900.0  84500.0  84900.0  83100.0  18338645.0\n",
      "2   2024.04.08  84500.0     0.0  85200.0  86000.0  84500.0  18953232.0\n",
      "3   2024.04.05  84500.0   800.0  84500.0  85000.0  83800.0  18883752.0\n",
      "4   2024.04.04  85300.0  1200.0  85200.0  85500.0  84300.0  25248934.0\n",
      "5   2024.04.03  84100.0   900.0  84300.0  85000.0  83500.0  30493347.0\n",
      "9   2024.04.02  85000.0  3000.0  82900.0  85000.0  82900.0  37077944.0\n",
      "10  2024.04.01  82000.0   400.0  83200.0  83300.0  82000.0  20116513.0\n",
      "11  2024.03.29  82400.0  1600.0  81200.0  82500.0  80900.0  27126366.0\n",
      "12  2024.03.28  80800.0  1000.0  79400.0  81000.0  79200.0  25084812.0\n",
      "13  2024.03.27  79800.0   100.0  79200.0  80000.0  79200.0  17424595.0\n"
     ]
    },
    {
     "name": "stderr",
     "output_type": "stream",
     "text": [
      "C:\\Users\\irunn\\AppData\\Local\\Temp\\ipykernel_11784\\2729682859.py:10: FutureWarning: Passing literal html to 'read_html' is deprecated and will be removed in a future version. To read from a literal string, wrap it in a 'StringIO' object.\n",
      "  df = pd.read_html(html)\n",
      "C:\\Users\\irunn\\AppData\\Local\\Temp\\ipykernel_11784\\2729682859.py:10: FutureWarning: Passing literal html to 'read_html' is deprecated and will be removed in a future version. To read from a literal string, wrap it in a 'StringIO' object.\n",
      "  df = pd.read_html(html)\n"
     ]
    },
    {
     "name": "stdout",
     "output_type": "stream",
     "text": [
      "            날짜       종가     전일비       시가       고가       저가         거래량\n",
      "1   2024.04.09  83600.0   900.0  84500.0  84900.0  83100.0  18338645.0\n",
      "2   2024.04.08  84500.0     0.0  85200.0  86000.0  84500.0  18953232.0\n",
      "3   2024.04.05  84500.0   800.0  84500.0  85000.0  83800.0  18883752.0\n",
      "4   2024.04.04  85300.0  1200.0  85200.0  85500.0  84300.0  25248934.0\n",
      "5   2024.04.03  84100.0   900.0  84300.0  85000.0  83500.0  30493347.0\n",
      "9   2024.04.02  85000.0  3000.0  82900.0  85000.0  82900.0  37077944.0\n",
      "10  2024.04.01  82000.0   400.0  83200.0  83300.0  82000.0  20116513.0\n",
      "11  2024.03.29  82400.0  1600.0  81200.0  82500.0  80900.0  27126366.0\n",
      "12  2024.03.28  80800.0  1000.0  79400.0  81000.0  79200.0  25084812.0\n",
      "13  2024.03.27  79800.0   100.0  79200.0  80000.0  79200.0  17424595.0\n",
      "            날짜       종가     전일비       시가       고가       저가         거래량\n",
      "1   2024.04.09  83600.0   900.0  84500.0  84900.0  83100.0  18338645.0\n",
      "2   2024.04.08  84500.0     0.0  85200.0  86000.0  84500.0  18953232.0\n",
      "3   2024.04.05  84500.0   800.0  84500.0  85000.0  83800.0  18883752.0\n",
      "4   2024.04.04  85300.0  1200.0  85200.0  85500.0  84300.0  25248934.0\n",
      "5   2024.04.03  84100.0   900.0  84300.0  85000.0  83500.0  30493347.0\n",
      "9   2024.04.02  85000.0  3000.0  82900.0  85000.0  82900.0  37077944.0\n",
      "10  2024.04.01  82000.0   400.0  83200.0  83300.0  82000.0  20116513.0\n",
      "11  2024.03.29  82400.0  1600.0  81200.0  82500.0  80900.0  27126366.0\n",
      "12  2024.03.28  80800.0  1000.0  79400.0  81000.0  79200.0  25084812.0\n",
      "13  2024.03.27  79800.0   100.0  79200.0  80000.0  79200.0  17424595.0\n"
     ]
    },
    {
     "name": "stderr",
     "output_type": "stream",
     "text": [
      "C:\\Users\\irunn\\AppData\\Local\\Temp\\ipykernel_11784\\2729682859.py:10: FutureWarning: Passing literal html to 'read_html' is deprecated and will be removed in a future version. To read from a literal string, wrap it in a 'StringIO' object.\n",
      "  df = pd.read_html(html)\n",
      "C:\\Users\\irunn\\AppData\\Local\\Temp\\ipykernel_11784\\2729682859.py:10: FutureWarning: Passing literal html to 'read_html' is deprecated and will be removed in a future version. To read from a literal string, wrap it in a 'StringIO' object.\n",
      "  df = pd.read_html(html)\n",
      "C:\\Users\\irunn\\AppData\\Local\\Temp\\ipykernel_11784\\2729682859.py:10: FutureWarning: Passing literal html to 'read_html' is deprecated and will be removed in a future version. To read from a literal string, wrap it in a 'StringIO' object.\n",
      "  df = pd.read_html(html)\n"
     ]
    },
    {
     "name": "stdout",
     "output_type": "stream",
     "text": [
      "            날짜       종가     전일비       시가       고가       저가         거래량\n",
      "1   2024.04.09  83600.0   900.0  84500.0  84900.0  83100.0  18338249.0\n",
      "2   2024.04.08  84500.0     0.0  85200.0  86000.0  84500.0  18953232.0\n",
      "3   2024.04.05  84500.0   800.0  84500.0  85000.0  83800.0  18883752.0\n",
      "4   2024.04.04  85300.0  1200.0  85200.0  85500.0  84300.0  25248934.0\n",
      "5   2024.04.03  84100.0   900.0  84300.0  85000.0  83500.0  30493347.0\n",
      "9   2024.04.02  85000.0  3000.0  82900.0  85000.0  82900.0  37077944.0\n",
      "10  2024.04.01  82000.0   400.0  83200.0  83300.0  82000.0  20116513.0\n",
      "11  2024.03.29  82400.0  1600.0  81200.0  82500.0  80900.0  27126366.0\n",
      "12  2024.03.28  80800.0  1000.0  79400.0  81000.0  79200.0  25084812.0\n",
      "13  2024.03.27  79800.0   100.0  79200.0  80000.0  79200.0  17424595.0\n",
      "            날짜       종가     전일비       시가       고가       저가         거래량\n",
      "1   2024.04.09  83600.0   900.0  84500.0  84900.0  83100.0  18338645.0\n",
      "2   2024.04.08  84500.0     0.0  85200.0  86000.0  84500.0  18953232.0\n",
      "3   2024.04.05  84500.0   800.0  84500.0  85000.0  83800.0  18883752.0\n",
      "4   2024.04.04  85300.0  1200.0  85200.0  85500.0  84300.0  25248934.0\n",
      "5   2024.04.03  84100.0   900.0  84300.0  85000.0  83500.0  30493347.0\n",
      "9   2024.04.02  85000.0  3000.0  82900.0  85000.0  82900.0  37077944.0\n",
      "10  2024.04.01  82000.0   400.0  83200.0  83300.0  82000.0  20116513.0\n",
      "11  2024.03.29  82400.0  1600.0  81200.0  82500.0  80900.0  27126366.0\n",
      "12  2024.03.28  80800.0  1000.0  79400.0  81000.0  79200.0  25084812.0\n",
      "13  2024.03.27  79800.0   100.0  79200.0  80000.0  79200.0  17424595.0\n",
      "            날짜       종가     전일비       시가       고가       저가         거래량\n",
      "1   2024.04.09  83600.0   900.0  84500.0  84900.0  83100.0  18338645.0\n",
      "2   2024.04.08  84500.0     0.0  85200.0  86000.0  84500.0  18953232.0\n",
      "3   2024.04.05  84500.0   800.0  84500.0  85000.0  83800.0  18883752.0\n",
      "4   2024.04.04  85300.0  1200.0  85200.0  85500.0  84300.0  25248934.0\n",
      "5   2024.04.03  84100.0   900.0  84300.0  85000.0  83500.0  30493347.0\n",
      "9   2024.04.02  85000.0  3000.0  82900.0  85000.0  82900.0  37077944.0\n",
      "10  2024.04.01  82000.0   400.0  83200.0  83300.0  82000.0  20116513.0\n",
      "11  2024.03.29  82400.0  1600.0  81200.0  82500.0  80900.0  27126366.0\n",
      "12  2024.03.28  80800.0  1000.0  79400.0  81000.0  79200.0  25084812.0\n",
      "13  2024.03.27  79800.0   100.0  79200.0  80000.0  79200.0  17424595.0\n"
     ]
    }
   ],
   "source": [
    "for num in range(1, 50):\n",
    "    full_url = samsung_url + str(num)\n",
    "    \n",
    "    # 페이지 요청\n",
    "    driver.get(samsung_url)\n",
    "\n",
    "    try:\n",
    "        # 페이지의 html 가져오기\n",
    "        html = driver.page_source\n",
    "        df = pd.read_html(html)\n",
    "\n",
    "        # 결측치 처리\n",
    "        coud = df[0]['날짜'].notnull()\n",
    "        samsung_day = df[0][coud]\n",
    "        samsung_daily_kospi.append(samsung_day)\n",
    "\n",
    "        print(samsung_day)\n",
    "\n",
    "    except Exception as e:\n",
    "        print(\"Network Error!\", e)\n",
    "\n",
    "    # finally:\n",
    "    #     driver.quit()\n",
    "\n",
    "samsung_daily_kospi_all = pd.concat(samsung_daily_kospi)\n",
    "samsung_daily_kospi_all.to_csv(\"examples/samsung_daily_kospi_2024_2020.csv\")\n"
   ]
  }
 ],
 "metadata": {
  "kernelspec": {
   "display_name": "Python 3 (ipykernel)",
   "language": "python",
   "name": "python3"
  },
  "language_info": {
   "codemirror_mode": {
    "name": "ipython",
    "version": 3
   },
   "file_extension": ".py",
   "mimetype": "text/x-python",
   "name": "python",
   "nbconvert_exporter": "python",
   "pygments_lexer": "ipython3",
   "version": "3.12.2"
  }
 },
 "nbformat": 4,
 "nbformat_minor": 4
}
